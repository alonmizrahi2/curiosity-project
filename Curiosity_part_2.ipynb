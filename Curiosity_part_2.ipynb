{
  "cells": [
    {
      "cell_type": "markdown",
      "metadata": {
        "id": "vlO0p0HTZNHz"
      },
      "source": [
        "<div dir=rtl>\n",
        "\n",
        "#  פרויקט קורס סקרנות\n",
        "  מגישים: שי פרח ת.ז 025257957 , \n",
        "אלון מזרחי ת.ז 312284706"
      ]
    },
    {
      "cell_type": "markdown",
      "metadata": {
        "id": "JGfiIs8z6OHn"
      },
      "source": [
        "<div dir=rtl>\n",
        "\n",
        "# עבור פרויקט זה נשתמש במסד הנתונים של האירוסים לסיווג מולטי-קלאס "
      ]
    },
    {
      "cell_type": "markdown",
      "metadata": {
        "id": "TiX5IRHe60zp"
      },
      "source": [
        "<div dir=rtl>\n",
        "\n",
        "## טעינת הספריות"
      ]
    },
    {
      "cell_type": "code",
      "execution_count": null,
      "metadata": {
        "id": "DNBrvr206KvZ"
      },
      "outputs": [],
      "source": [
        "from pandas import read_csv\n",
        "from sklearn.model_selection import train_test_split\n",
        "from sklearn.preprocessing import LabelEncoder\n",
        "from sklearn.metrics import confusion_matrix\n",
        "from sklearn.metrics import classification_report\n",
        "from sklearn.metrics import accuracy_score\n",
        "\n",
        "from google.colab import data_table # Enables rendering of pandas dataframes into interactive displays\n",
        "data_table.enable_dataframe_formatter()"
      ]
    },
    {
      "cell_type": "code",
      "execution_count": null,
      "metadata": {
        "id": "ZmuJDSFIwjnZ"
      },
      "outputs": [],
      "source": [
        "import pandas as pd\n",
        "import numpy as np\n",
        "import matplotlib.pyplot as plt\n",
        "import scipy\n",
        "from scipy import stats\n",
        "\n"
      ]
    },
    {
      "cell_type": "code",
      "execution_count": null,
      "metadata": {
        "id": "Z1G_Y2jm00tt"
      },
      "outputs": [],
      "source": [
        "from tensorflow.keras import Sequential\n",
        "from tensorflow.keras.layers import Dense\n",
        "import keras\n"
      ]
    },
    {
      "cell_type": "markdown",
      "metadata": {
        "id": "AraeCMlmav8b"
      },
      "source": [
        "<div dir=rtl>\n",
        "\n",
        "\n",
        "# ניסוח הבעיה: בחירת בעיית למידה\n",
        "סיווג דאטהסט האירוסים."
      ]
    },
    {
      "cell_type": "markdown",
      "metadata": {
        "id": "uNLBgFaI72HB"
      },
      "source": [
        "<div dir=rtl>\n",
        "\n",
        "## טעינת הנתונים "
      ]
    },
    {
      "cell_type": "code",
      "execution_count": null,
      "metadata": {
        "id": "te044DKg7N9r"
      },
      "outputs": [],
      "source": [
        "# load the dataset\n",
        "path = \"https://gist.githubusercontent.com/curran/a08a1080b88344b0c8a7/raw/0e7a9b0a5d22642a06d3d5b9bcbad9890c8ee534/iris.csv\"\n",
        "df = read_csv(path)"
      ]
    },
    {
      "cell_type": "markdown",
      "metadata": {
        "id": "ka_qlOI95r1X"
      },
      "source": [
        "<img src=https://camo.githubusercontent.com/74e378bb24b34efb63e8db09c4f073370d36f23aaa2c7580a805e93c881b78c2/68747470733a2f2f73332e616d617a6f6e6177732e636f6d2f6173736574732e6461746163616d702e636f6d2f626c6f675f6173736574732f4d616368696e652b4c6561726e696e672b522f697269732d6d616368696e656c6561726e696e672e706e67>"
      ]
    },
    {
      "cell_type": "markdown",
      "metadata": {
        "id": "qzdq8EcC5C4u"
      },
      "source": [
        "The Iris Dataset consists of 50 samples each of three different species of iris flower: setosa, versicolor and virginica. It contains four different measurements for each sample in centimetres - the length and width of sepals and petals - making it a multivariate dataset.\n",
        "<img src=https://miro.medium.com/max/1400/1*2vTEJYgA9TnWPM81fBz7tw.webp>"
      ]
    },
    {
      "cell_type": "code",
      "execution_count": null,
      "metadata": {
        "colab": {
          "base_uri": "https://localhost:8080/"
        },
        "id": "pvLNJ4YoEhyd",
        "outputId": "afb3b927-401d-40b2-f303-beae4ed25f1b"
      },
      "outputs": [
        {
          "output_type": "stream",
          "name": "stdout",
          "text": [
            "<class 'pandas.core.frame.DataFrame'>\n",
            "RangeIndex: 150 entries, 0 to 149\n",
            "Data columns (total 5 columns):\n",
            " #   Column        Non-Null Count  Dtype  \n",
            "---  ------        --------------  -----  \n",
            " 0   sepal_length  150 non-null    float64\n",
            " 1   sepal_width   150 non-null    float64\n",
            " 2   petal_length  150 non-null    float64\n",
            " 3   petal_width   150 non-null    float64\n",
            " 4   species       150 non-null    object \n",
            "dtypes: float64(4), object(1)\n",
            "memory usage: 6.0+ KB\n"
          ]
        }
      ],
      "source": [
        "df.info()"
      ]
    },
    {
      "cell_type": "code",
      "execution_count": null,
      "metadata": {
        "colab": {
          "base_uri": "https://localhost:8080/",
          "height": 276
        },
        "id": "iNXKgWWFE2xf",
        "outputId": "f3ae1ed5-af86-44b8-9404-5cb6f8f48735"
      },
      "outputs": [
        {
          "output_type": "execute_result",
          "data": {
            "text/plain": [
              "       sepal_length  sepal_width  petal_length  petal_width\n",
              "count    150.000000   150.000000    150.000000   150.000000\n",
              "mean       5.843333     3.054000      3.758667     1.198667\n",
              "std        0.828066     0.433594      1.764420     0.763161\n",
              "min        4.300000     2.000000      1.000000     0.100000\n",
              "25%        5.100000     2.800000      1.600000     0.300000\n",
              "50%        5.800000     3.000000      4.350000     1.300000\n",
              "75%        6.400000     3.300000      5.100000     1.800000\n",
              "max        7.900000     4.400000      6.900000     2.500000"
            ],
            "text/html": [
              "\n",
              "  <div id=\"df-714b11c7-af6c-4bbc-8d09-d8cb0404c4d9\">\n",
              "    <div class=\"colab-df-container\">\n",
              "      <div>\n",
              "<style scoped>\n",
              "    .dataframe tbody tr th:only-of-type {\n",
              "        vertical-align: middle;\n",
              "    }\n",
              "\n",
              "    .dataframe tbody tr th {\n",
              "        vertical-align: top;\n",
              "    }\n",
              "\n",
              "    .dataframe thead th {\n",
              "        text-align: right;\n",
              "    }\n",
              "</style>\n",
              "<table border=\"1\" class=\"dataframe\">\n",
              "  <thead>\n",
              "    <tr style=\"text-align: right;\">\n",
              "      <th></th>\n",
              "      <th>sepal_length</th>\n",
              "      <th>sepal_width</th>\n",
              "      <th>petal_length</th>\n",
              "      <th>petal_width</th>\n",
              "    </tr>\n",
              "  </thead>\n",
              "  <tbody>\n",
              "    <tr>\n",
              "      <th>count</th>\n",
              "      <td>150.000000</td>\n",
              "      <td>150.000000</td>\n",
              "      <td>150.000000</td>\n",
              "      <td>150.000000</td>\n",
              "    </tr>\n",
              "    <tr>\n",
              "      <th>mean</th>\n",
              "      <td>5.843333</td>\n",
              "      <td>3.054000</td>\n",
              "      <td>3.758667</td>\n",
              "      <td>1.198667</td>\n",
              "    </tr>\n",
              "    <tr>\n",
              "      <th>std</th>\n",
              "      <td>0.828066</td>\n",
              "      <td>0.433594</td>\n",
              "      <td>1.764420</td>\n",
              "      <td>0.763161</td>\n",
              "    </tr>\n",
              "    <tr>\n",
              "      <th>min</th>\n",
              "      <td>4.300000</td>\n",
              "      <td>2.000000</td>\n",
              "      <td>1.000000</td>\n",
              "      <td>0.100000</td>\n",
              "    </tr>\n",
              "    <tr>\n",
              "      <th>25%</th>\n",
              "      <td>5.100000</td>\n",
              "      <td>2.800000</td>\n",
              "      <td>1.600000</td>\n",
              "      <td>0.300000</td>\n",
              "    </tr>\n",
              "    <tr>\n",
              "      <th>50%</th>\n",
              "      <td>5.800000</td>\n",
              "      <td>3.000000</td>\n",
              "      <td>4.350000</td>\n",
              "      <td>1.300000</td>\n",
              "    </tr>\n",
              "    <tr>\n",
              "      <th>75%</th>\n",
              "      <td>6.400000</td>\n",
              "      <td>3.300000</td>\n",
              "      <td>5.100000</td>\n",
              "      <td>1.800000</td>\n",
              "    </tr>\n",
              "    <tr>\n",
              "      <th>max</th>\n",
              "      <td>7.900000</td>\n",
              "      <td>4.400000</td>\n",
              "      <td>6.900000</td>\n",
              "      <td>2.500000</td>\n",
              "    </tr>\n",
              "  </tbody>\n",
              "</table>\n",
              "</div>\n",
              "      <button class=\"colab-df-convert\" onclick=\"convertToInteractive('df-714b11c7-af6c-4bbc-8d09-d8cb0404c4d9')\"\n",
              "              title=\"Convert this dataframe to an interactive table.\"\n",
              "              style=\"display:none;\">\n",
              "        \n",
              "  <svg xmlns=\"http://www.w3.org/2000/svg\" height=\"24px\"viewBox=\"0 0 24 24\"\n",
              "       width=\"24px\">\n",
              "    <path d=\"M0 0h24v24H0V0z\" fill=\"none\"/>\n",
              "    <path d=\"M18.56 5.44l.94 2.06.94-2.06 2.06-.94-2.06-.94-.94-2.06-.94 2.06-2.06.94zm-11 1L8.5 8.5l.94-2.06 2.06-.94-2.06-.94L8.5 2.5l-.94 2.06-2.06.94zm10 10l.94 2.06.94-2.06 2.06-.94-2.06-.94-.94-2.06-.94 2.06-2.06.94z\"/><path d=\"M17.41 7.96l-1.37-1.37c-.4-.4-.92-.59-1.43-.59-.52 0-1.04.2-1.43.59L10.3 9.45l-7.72 7.72c-.78.78-.78 2.05 0 2.83L4 21.41c.39.39.9.59 1.41.59.51 0 1.02-.2 1.41-.59l7.78-7.78 2.81-2.81c.8-.78.8-2.07 0-2.86zM5.41 20L4 18.59l7.72-7.72 1.47 1.35L5.41 20z\"/>\n",
              "  </svg>\n",
              "      </button>\n",
              "      \n",
              "  <style>\n",
              "    .colab-df-container {\n",
              "      display:flex;\n",
              "      flex-wrap:wrap;\n",
              "      gap: 12px;\n",
              "    }\n",
              "\n",
              "    .colab-df-convert {\n",
              "      background-color: #E8F0FE;\n",
              "      border: none;\n",
              "      border-radius: 50%;\n",
              "      cursor: pointer;\n",
              "      display: none;\n",
              "      fill: #1967D2;\n",
              "      height: 32px;\n",
              "      padding: 0 0 0 0;\n",
              "      width: 32px;\n",
              "    }\n",
              "\n",
              "    .colab-df-convert:hover {\n",
              "      background-color: #E2EBFA;\n",
              "      box-shadow: 0px 1px 2px rgba(60, 64, 67, 0.3), 0px 1px 3px 1px rgba(60, 64, 67, 0.15);\n",
              "      fill: #174EA6;\n",
              "    }\n",
              "\n",
              "    [theme=dark] .colab-df-convert {\n",
              "      background-color: #3B4455;\n",
              "      fill: #D2E3FC;\n",
              "    }\n",
              "\n",
              "    [theme=dark] .colab-df-convert:hover {\n",
              "      background-color: #434B5C;\n",
              "      box-shadow: 0px 1px 3px 1px rgba(0, 0, 0, 0.15);\n",
              "      filter: drop-shadow(0px 1px 2px rgba(0, 0, 0, 0.3));\n",
              "      fill: #FFFFFF;\n",
              "    }\n",
              "  </style>\n",
              "\n",
              "      <script>\n",
              "        const buttonEl =\n",
              "          document.querySelector('#df-714b11c7-af6c-4bbc-8d09-d8cb0404c4d9 button.colab-df-convert');\n",
              "        buttonEl.style.display =\n",
              "          google.colab.kernel.accessAllowed ? 'block' : 'none';\n",
              "\n",
              "        async function convertToInteractive(key) {\n",
              "          const element = document.querySelector('#df-714b11c7-af6c-4bbc-8d09-d8cb0404c4d9');\n",
              "          const dataTable =\n",
              "            await google.colab.kernel.invokeFunction('convertToInteractive',\n",
              "                                                     [key], {});\n",
              "          if (!dataTable) return;\n",
              "\n",
              "          const docLinkHtml = 'Like what you see? Visit the ' +\n",
              "            '<a target=\"_blank\" href=https://colab.research.google.com/notebooks/data_table.ipynb>data table notebook</a>'\n",
              "            + ' to learn more about interactive tables.';\n",
              "          element.innerHTML = '';\n",
              "          dataTable['output_type'] = 'display_data';\n",
              "          await google.colab.output.renderOutput(dataTable, element);\n",
              "          const docLink = document.createElement('div');\n",
              "          docLink.innerHTML = docLinkHtml;\n",
              "          element.appendChild(docLink);\n",
              "        }\n",
              "      </script>\n",
              "    </div>\n",
              "  </div>\n",
              "  "
            ],
            "application/vnd.google.colaboratory.module+javascript": "\n      import \"https://ssl.gstatic.com/colaboratory/data_table/fb998edc550c7947/data_table.js\";\n\n      window.createDataTable({\n        data: [[\"count\",\n{\n            'v': 150.0,\n            'f': \"150.0\",\n        },\n{\n            'v': 150.0,\n            'f': \"150.0\",\n        },\n{\n            'v': 150.0,\n            'f': \"150.0\",\n        },\n{\n            'v': 150.0,\n            'f': \"150.0\",\n        }],\n [\"mean\",\n{\n            'v': 5.843333333333334,\n            'f': \"5.843333333333334\",\n        },\n{\n            'v': 3.0540000000000003,\n            'f': \"3.0540000000000003\",\n        },\n{\n            'v': 3.758666666666666,\n            'f': \"3.758666666666666\",\n        },\n{\n            'v': 1.1986666666666668,\n            'f': \"1.1986666666666668\",\n        }],\n [\"std\",\n{\n            'v': 0.828066127977863,\n            'f': \"0.828066127977863\",\n        },\n{\n            'v': 0.4335943113621737,\n            'f': \"0.4335943113621737\",\n        },\n{\n            'v': 1.7644204199522626,\n            'f': \"1.7644204199522626\",\n        },\n{\n            'v': 0.7631607417008411,\n            'f': \"0.7631607417008411\",\n        }],\n [\"min\",\n{\n            'v': 4.3,\n            'f': \"4.3\",\n        },\n{\n            'v': 2.0,\n            'f': \"2.0\",\n        },\n{\n            'v': 1.0,\n            'f': \"1.0\",\n        },\n{\n            'v': 0.1,\n            'f': \"0.1\",\n        }],\n [\"25%\",\n{\n            'v': 5.1,\n            'f': \"5.1\",\n        },\n{\n            'v': 2.8,\n            'f': \"2.8\",\n        },\n{\n            'v': 1.6,\n            'f': \"1.6\",\n        },\n{\n            'v': 0.3,\n            'f': \"0.3\",\n        }],\n [\"50%\",\n{\n            'v': 5.8,\n            'f': \"5.8\",\n        },\n{\n            'v': 3.0,\n            'f': \"3.0\",\n        },\n{\n            'v': 4.35,\n            'f': \"4.35\",\n        },\n{\n            'v': 1.3,\n            'f': \"1.3\",\n        }],\n [\"75%\",\n{\n            'v': 6.4,\n            'f': \"6.4\",\n        },\n{\n            'v': 3.3,\n            'f': \"3.3\",\n        },\n{\n            'v': 5.1,\n            'f': \"5.1\",\n        },\n{\n            'v': 1.8,\n            'f': \"1.8\",\n        }],\n [\"max\",\n{\n            'v': 7.9,\n            'f': \"7.9\",\n        },\n{\n            'v': 4.4,\n            'f': \"4.4\",\n        },\n{\n            'v': 6.9,\n            'f': \"6.9\",\n        },\n{\n            'v': 2.5,\n            'f': \"2.5\",\n        }]],\n        columns: [[\"string\", \"index\"], [\"number\", \"sepal_length\"], [\"number\", \"sepal_width\"], [\"number\", \"petal_length\"], [\"number\", \"petal_width\"]],\n        columnOptions: [{\"width\": \"1px\", \"className\": \"index_column\"}],\n        rowsPerPage: 25,\n        helpUrl: \"https://colab.research.google.com/notebooks/data_table.ipynb\",\n        suppressOutputScrolling: true,\n        minimumWidth: undefined,\n      });\n    "
          },
          "metadata": {},
          "execution_count": 60
        }
      ],
      "source": [
        "df.describe()"
      ]
    },
    {
      "cell_type": "code",
      "execution_count": null,
      "metadata": {
        "id": "EwS5Y7SspgtO"
      },
      "outputs": [],
      "source": [
        "### start part b ###\n",
        "\n",
        "X = df.iloc[:, :-1].values\n",
        "y = df.iloc[:, -1].values"
      ]
    },
    {
      "cell_type": "code",
      "execution_count": null,
      "metadata": {
        "id": "2Q8mKXXS1aek"
      },
      "outputs": [],
      "source": [
        "X_train, X_test, y_train, y_test = train_test_split(X, y, test_size = 0.3, random_state = 2)"
      ]
    },
    {
      "cell_type": "code",
      "execution_count": null,
      "metadata": {
        "colab": {
          "base_uri": "https://localhost:8080/"
        },
        "id": "JF69AYKS2Ja2",
        "outputId": "b33be0ff-6880-40d8-87a3-b6ca6a0d4441"
      },
      "outputs": [
        {
          "output_type": "execute_result",
          "data": {
            "text/plain": [
              "array([2, 0, 1, 0, 0, 0, 2, 2, 2, 0, 2, 2, 2, 2, 0, 0, 2, 1, 1, 2, 2, 1,\n",
              "       0, 1, 0, 2, 1, 1, 0, 1, 1, 1, 2, 0, 1, 0, 1, 2, 0, 1, 0, 0, 0, 2,\n",
              "       2, 0, 0, 2, 2, 1, 2, 1, 1, 2, 0, 2, 2, 2, 0, 2, 0, 0, 1, 2, 1, 2,\n",
              "       1, 1, 2, 1, 1, 1, 2, 1, 2, 1, 0, 1, 1, 1, 1, 2, 1, 0, 0, 2, 1, 2,\n",
              "       0, 2, 0, 2, 2, 0, 1, 0, 2, 1, 0, 2, 1, 0, 0, 1, 0])"
            ]
          },
          "metadata": {},
          "execution_count": 63
        }
      ],
      "source": [
        "y_train = LabelEncoder().fit_transform(y_train)\n",
        "y_test = LabelEncoder().fit_transform(y_test)\n",
        "\n",
        "y_train"
      ]
    },
    {
      "cell_type": "markdown",
      "metadata": {
        "id": "j-H4Y4-VfLTP"
      },
      "source": [
        "<div dir=rtl>\n",
        "\n",
        "# חלק ב': \n",
        "## 4. פירמול הבעיה בעזרת רשת נוירונים"
      ]
    },
    {
      "cell_type": "markdown",
      "metadata": {
        "id": "dDS8WcE8t83U"
      },
      "source": [
        "<div dir=rtl>\n",
        "\n",
        "\n",
        "מטרת הלמידה היא אימון מודל מודל מסווג לדאטהסט האירוסים.\n",
        "בדאטהסט זה כל דוגמא מכילה וקטור x בין 4 תכונות מספריות רציפות, ותיוג y, שהוא סוג האירוס הספציפי מתוך שלושה סוגי אירוסים הקיימים בדאטהסט.\n",
        " \n",
        "מטרת הלמידה היא אימון רשת נוירונים בעלת ששכבת כניסה עם 4 נוירונים ( נוירון לכל תכונה), ושכבת יציאה עם 3 נוירונים (הוריון לכל סוג אירוס). \n",
        "רשת הנוירונים המאומנת תקבל כקלט וקטור  x המכיל את ארבעת התכונות המספריות של האירוס הספציפי ותחזיר כפלט וקטור בין שלושה ערכים המייצגים את ההסתברות \n",
        "</div> \n",
        "￼P(y_i |x)\n",
        "  for i= 1,2,3"
      ]
    },
    {
      "cell_type": "markdown",
      "metadata": {
        "id": "8FAvp4998eQV"
      },
      "source": [
        "<div dir=rtl>\n",
        "\n",
        "## הגדרת מבנה הרשת\n",
        "\n",
        "רשת מסוג ,Fully Connected, בעלת 4 שכבות כאשר שלושת השכבות הראשונות עם אקטיבציית Relu ושכבה אחרונה בעלת אקטיבציית Softmax.\n",
        "\n"
      ]
    },
    {
      "cell_type": "markdown",
      "metadata": {
        "id": "CDbOGQI5c9A2"
      },
      "source": [
        "<div dir=rtl>\n",
        "\n",
        "### הגדרת אלגוריתם הלמידה\n",
        "\n",
        "אלגוריתם הלמידה הוא האלגוריתם הגנרי לרשתות נוירונים, כלומר איטרציות של:\n",
        "\n",
        " </div>\n",
        "\n",
        "1.  **Backpropogation**: for computing the gradient of the loss with respect to the network parameters\n",
        "2.   **Optimization**: Updating the parameter, using the compted gradient, to reduce the loss\n",
        "\n"
      ]
    },
    {
      "cell_type": "markdown",
      "metadata": {
        "id": "1uPDtgZEg9i0"
      },
      "source": [
        "<div dir=rtl>\n",
        "\n",
        "\n",
        "## 5. תכנות הבעיה והפתרון\n",
        "### תכנות רשת הנוירונים\n",
        "לשם בנייה ואימון של רשת הנוירונים אנו משתמשים בספריית Keras"
      ]
    },
    {
      "cell_type": "code",
      "execution_count": null,
      "metadata": {
        "colab": {
          "base_uri": "https://localhost:8080/"
        },
        "id": "Dd08N1ih8e6U",
        "outputId": "aaf917b0-02bd-411e-c78e-fbdff5d65d5c"
      },
      "outputs": [
        {
          "output_type": "stream",
          "name": "stdout",
          "text": [
            "Model: \"sequential_634\"\n",
            "_________________________________________________________________\n",
            " Layer (type)                Output Shape              Param #   \n",
            "=================================================================\n",
            " dense_3692 (Dense)          (None, 16)                80        \n",
            "                                                                 \n",
            " dense_3693 (Dense)          (None, 8)                 136       \n",
            "                                                                 \n",
            " dense_3694 (Dense)          (None, 8)                 72        \n",
            "                                                                 \n",
            " dense_3695 (Dense)          (None, 3)                 27        \n",
            "                                                                 \n",
            "=================================================================\n",
            "Total params: 315\n",
            "Trainable params: 315\n",
            "Non-trainable params: 0\n",
            "_________________________________________________________________\n"
          ]
        }
      ],
      "source": [
        "n_features = 4\n",
        "# define model\n",
        "model = Sequential()\n",
        "model.add(Dense(16, input_dim=n_features, activation='relu', input_shape=(n_features,)))\n",
        "model.add(Dense(8, activation='relu'))\n",
        "model.add(Dense(8, activation='relu'))\n",
        "model.add(Dense(3, activation='softmax'))\n",
        "\n",
        "model.summary()\n",
        "\n"
      ]
    },
    {
      "cell_type": "markdown",
      "metadata": {
        "id": "UF7G6t0p8wpk"
      },
      "source": [
        "<div dir=rtl>\n",
        "\n",
        "## קימפול המודל"
      ]
    },
    {
      "cell_type": "code",
      "execution_count": null,
      "metadata": {
        "id": "lZ71KhVc8xAj"
      },
      "outputs": [],
      "source": [
        "# compile the model\n",
        "model.compile(optimizer='adam', loss='sparse_categorical_crossentropy', metrics=['accuracy'])\n"
      ]
    },
    {
      "cell_type": "markdown",
      "metadata": {
        "id": "q5AiaUVo80EN"
      },
      "source": [
        "<div dir=rtl>\n",
        "\n",
        "## אימון המודל - הרצת אלגוריתם הלמידה\n",
        "תהליך החילחול לאחור והאופטימיזציה נעשה בתוך פונקציית ה-fit של Keras\n"
      ]
    },
    {
      "cell_type": "code",
      "execution_count": null,
      "metadata": {
        "colab": {
          "base_uri": "https://localhost:8080/"
        },
        "id": "hCfpMq1T80Q0",
        "outputId": "566438f6-9700-4f60-c91d-1e2e111801e6"
      },
      "outputs": [
        {
          "output_type": "stream",
          "name": "stdout",
          "text": [
            "Epoch 1/300\n",
            "6/6 [==============================] - 0s 3ms/step - loss: 1.2798 - accuracy: 0.3524\n",
            "Epoch 2/300\n",
            "6/6 [==============================] - 0s 3ms/step - loss: 1.2219 - accuracy: 0.3524\n",
            "Epoch 3/300\n",
            "6/6 [==============================] - 0s 3ms/step - loss: 1.1825 - accuracy: 0.3524\n",
            "Epoch 4/300\n",
            "6/6 [==============================] - 0s 3ms/step - loss: 1.1504 - accuracy: 0.3524\n",
            "Epoch 5/300\n",
            "6/6 [==============================] - 0s 3ms/step - loss: 1.1227 - accuracy: 0.3524\n",
            "Epoch 6/300\n",
            "6/6 [==============================] - 0s 3ms/step - loss: 1.0999 - accuracy: 0.3524\n",
            "Epoch 7/300\n",
            "6/6 [==============================] - 0s 3ms/step - loss: 1.0807 - accuracy: 0.3524\n",
            "Epoch 8/300\n",
            "6/6 [==============================] - 0s 4ms/step - loss: 1.0612 - accuracy: 0.3524\n",
            "Epoch 9/300\n",
            "6/6 [==============================] - 0s 3ms/step - loss: 1.0490 - accuracy: 0.3524\n",
            "Epoch 10/300\n",
            "6/6 [==============================] - 0s 4ms/step - loss: 1.0334 - accuracy: 0.3524\n",
            "Epoch 11/300\n",
            "6/6 [==============================] - 0s 3ms/step - loss: 1.0208 - accuracy: 0.3524\n",
            "Epoch 12/300\n",
            "6/6 [==============================] - 0s 3ms/step - loss: 1.0089 - accuracy: 0.3524\n",
            "Epoch 13/300\n",
            "6/6 [==============================] - 0s 3ms/step - loss: 0.9964 - accuracy: 0.3524\n",
            "Epoch 14/300\n",
            "6/6 [==============================] - 0s 3ms/step - loss: 0.9855 - accuracy: 0.3524\n",
            "Epoch 15/300\n",
            "6/6 [==============================] - 0s 3ms/step - loss: 0.9742 - accuracy: 0.3524\n",
            "Epoch 16/300\n",
            "6/6 [==============================] - 0s 3ms/step - loss: 0.9640 - accuracy: 0.3524\n",
            "Epoch 17/300\n",
            "6/6 [==============================] - 0s 3ms/step - loss: 0.9539 - accuracy: 0.3524\n",
            "Epoch 18/300\n",
            "6/6 [==============================] - 0s 3ms/step - loss: 0.9437 - accuracy: 0.3524\n",
            "Epoch 19/300\n",
            "6/6 [==============================] - 0s 3ms/step - loss: 0.9335 - accuracy: 0.3524\n",
            "Epoch 20/300\n",
            "6/6 [==============================] - 0s 5ms/step - loss: 0.9230 - accuracy: 0.3524\n",
            "Epoch 21/300\n",
            "6/6 [==============================] - 0s 3ms/step - loss: 0.9126 - accuracy: 0.3524\n",
            "Epoch 22/300\n",
            "6/6 [==============================] - 0s 3ms/step - loss: 0.9024 - accuracy: 0.3810\n",
            "Epoch 23/300\n",
            "6/6 [==============================] - 0s 3ms/step - loss: 0.8917 - accuracy: 0.4952\n",
            "Epoch 24/300\n",
            "6/6 [==============================] - 0s 3ms/step - loss: 0.8820 - accuracy: 0.6000\n",
            "Epoch 25/300\n",
            "6/6 [==============================] - 0s 3ms/step - loss: 0.8708 - accuracy: 0.6476\n",
            "Epoch 26/300\n",
            "6/6 [==============================] - 0s 3ms/step - loss: 0.8609 - accuracy: 0.6571\n",
            "Epoch 27/300\n",
            "6/6 [==============================] - 0s 3ms/step - loss: 0.8504 - accuracy: 0.6571\n",
            "Epoch 28/300\n",
            "6/6 [==============================] - 0s 4ms/step - loss: 0.8416 - accuracy: 0.6571\n",
            "Epoch 29/300\n",
            "6/6 [==============================] - 0s 4ms/step - loss: 0.8306 - accuracy: 0.6667\n",
            "Epoch 30/300\n",
            "6/6 [==============================] - 0s 3ms/step - loss: 0.8195 - accuracy: 0.6667\n",
            "Epoch 31/300\n",
            "6/6 [==============================] - 0s 3ms/step - loss: 0.8083 - accuracy: 0.6667\n",
            "Epoch 32/300\n",
            "6/6 [==============================] - 0s 3ms/step - loss: 0.7974 - accuracy: 0.6667\n",
            "Epoch 33/300\n",
            "6/6 [==============================] - 0s 3ms/step - loss: 0.7871 - accuracy: 0.6667\n",
            "Epoch 34/300\n",
            "6/6 [==============================] - 0s 3ms/step - loss: 0.7751 - accuracy: 0.6667\n",
            "Epoch 35/300\n",
            "6/6 [==============================] - 0s 3ms/step - loss: 0.7629 - accuracy: 0.6667\n",
            "Epoch 36/300\n",
            "6/6 [==============================] - 0s 3ms/step - loss: 0.7519 - accuracy: 0.6667\n",
            "Epoch 37/300\n",
            "6/6 [==============================] - 0s 3ms/step - loss: 0.7393 - accuracy: 0.6667\n",
            "Epoch 38/300\n",
            "6/6 [==============================] - 0s 3ms/step - loss: 0.7269 - accuracy: 0.6667\n",
            "Epoch 39/300\n",
            "6/6 [==============================] - 0s 5ms/step - loss: 0.7154 - accuracy: 0.6667\n",
            "Epoch 40/300\n",
            "6/6 [==============================] - 0s 3ms/step - loss: 0.7036 - accuracy: 0.6667\n",
            "Epoch 41/300\n",
            "6/6 [==============================] - 0s 3ms/step - loss: 0.6905 - accuracy: 0.6667\n",
            "Epoch 42/300\n",
            "6/6 [==============================] - 0s 3ms/step - loss: 0.6786 - accuracy: 0.6667\n",
            "Epoch 43/300\n",
            "6/6 [==============================] - 0s 3ms/step - loss: 0.6653 - accuracy: 0.6667\n",
            "Epoch 44/300\n",
            "6/6 [==============================] - 0s 3ms/step - loss: 0.6538 - accuracy: 0.6667\n",
            "Epoch 45/300\n",
            "6/6 [==============================] - 0s 4ms/step - loss: 0.6397 - accuracy: 0.6667\n",
            "Epoch 46/300\n",
            "6/6 [==============================] - 0s 3ms/step - loss: 0.6273 - accuracy: 0.6667\n",
            "Epoch 47/300\n",
            "6/6 [==============================] - 0s 3ms/step - loss: 0.6138 - accuracy: 0.6667\n",
            "Epoch 48/300\n",
            "6/6 [==============================] - 0s 5ms/step - loss: 0.6007 - accuracy: 0.6667\n",
            "Epoch 49/300\n",
            "6/6 [==============================] - 0s 3ms/step - loss: 0.5886 - accuracy: 0.6667\n",
            "Epoch 50/300\n",
            "6/6 [==============================] - 0s 3ms/step - loss: 0.5768 - accuracy: 0.6667\n",
            "Epoch 51/300\n",
            "6/6 [==============================] - 0s 3ms/step - loss: 0.5621 - accuracy: 0.6667\n",
            "Epoch 52/300\n",
            "6/6 [==============================] - 0s 3ms/step - loss: 0.5406 - accuracy: 0.6952\n",
            "Epoch 53/300\n",
            "6/6 [==============================] - 0s 3ms/step - loss: 0.5252 - accuracy: 0.6857\n",
            "Epoch 54/300\n",
            "6/6 [==============================] - 0s 6ms/step - loss: 0.5116 - accuracy: 0.6952\n",
            "Epoch 55/300\n",
            "6/6 [==============================] - 0s 3ms/step - loss: 0.4999 - accuracy: 0.7714\n",
            "Epoch 56/300\n",
            "6/6 [==============================] - 0s 3ms/step - loss: 0.4891 - accuracy: 0.7714\n",
            "Epoch 57/300\n",
            "6/6 [==============================] - 0s 3ms/step - loss: 0.4762 - accuracy: 0.8381\n",
            "Epoch 58/300\n",
            "6/6 [==============================] - 0s 3ms/step - loss: 0.4667 - accuracy: 0.8571\n",
            "Epoch 59/300\n",
            "6/6 [==============================] - 0s 4ms/step - loss: 0.4567 - accuracy: 0.8762\n",
            "Epoch 60/300\n",
            "6/6 [==============================] - 0s 5ms/step - loss: 0.4474 - accuracy: 0.9143\n",
            "Epoch 61/300\n",
            "6/6 [==============================] - 0s 3ms/step - loss: 0.4370 - accuracy: 0.9333\n",
            "Epoch 62/300\n",
            "6/6 [==============================] - 0s 3ms/step - loss: 0.4278 - accuracy: 0.9524\n",
            "Epoch 63/300\n",
            "6/6 [==============================] - 0s 3ms/step - loss: 0.4187 - accuracy: 0.9429\n",
            "Epoch 64/300\n",
            "6/6 [==============================] - 0s 4ms/step - loss: 0.4093 - accuracy: 0.9429\n",
            "Epoch 65/300\n",
            "6/6 [==============================] - 0s 4ms/step - loss: 0.4014 - accuracy: 0.9524\n",
            "Epoch 66/300\n",
            "6/6 [==============================] - 0s 3ms/step - loss: 0.3926 - accuracy: 0.9524\n",
            "Epoch 67/300\n",
            "6/6 [==============================] - 0s 3ms/step - loss: 0.3838 - accuracy: 0.9524\n",
            "Epoch 68/300\n",
            "6/6 [==============================] - 0s 3ms/step - loss: 0.3767 - accuracy: 0.9333\n",
            "Epoch 69/300\n",
            "6/6 [==============================] - 0s 3ms/step - loss: 0.3733 - accuracy: 0.8762\n",
            "Epoch 70/300\n",
            "6/6 [==============================] - 0s 3ms/step - loss: 0.3670 - accuracy: 0.8667\n",
            "Epoch 71/300\n",
            "6/6 [==============================] - 0s 3ms/step - loss: 0.3582 - accuracy: 0.9048\n",
            "Epoch 72/300\n",
            "6/6 [==============================] - 0s 3ms/step - loss: 0.3491 - accuracy: 0.9333\n",
            "Epoch 73/300\n",
            "6/6 [==============================] - 0s 3ms/step - loss: 0.3422 - accuracy: 0.9619\n",
            "Epoch 74/300\n",
            "6/6 [==============================] - 0s 3ms/step - loss: 0.3341 - accuracy: 0.9619\n",
            "Epoch 75/300\n",
            "6/6 [==============================] - 0s 4ms/step - loss: 0.3270 - accuracy: 0.9619\n",
            "Epoch 76/300\n",
            "6/6 [==============================] - 0s 3ms/step - loss: 0.3200 - accuracy: 0.9619\n",
            "Epoch 77/300\n",
            "6/6 [==============================] - 0s 3ms/step - loss: 0.3132 - accuracy: 0.9619\n",
            "Epoch 78/300\n",
            "6/6 [==============================] - 0s 3ms/step - loss: 0.3073 - accuracy: 0.9619\n",
            "Epoch 79/300\n",
            "6/6 [==============================] - 0s 3ms/step - loss: 0.3069 - accuracy: 0.9619\n",
            "Epoch 80/300\n",
            "6/6 [==============================] - 0s 3ms/step - loss: 0.2964 - accuracy: 0.9619\n",
            "Epoch 81/300\n",
            "6/6 [==============================] - 0s 3ms/step - loss: 0.2899 - accuracy: 0.9524\n",
            "Epoch 82/300\n",
            "6/6 [==============================] - 0s 4ms/step - loss: 0.2812 - accuracy: 0.9524\n",
            "Epoch 83/300\n",
            "6/6 [==============================] - 0s 3ms/step - loss: 0.2759 - accuracy: 0.9524\n",
            "Epoch 84/300\n",
            "6/6 [==============================] - 0s 3ms/step - loss: 0.2720 - accuracy: 0.9524\n",
            "Epoch 85/300\n",
            "6/6 [==============================] - 0s 3ms/step - loss: 0.2693 - accuracy: 0.9524\n",
            "Epoch 86/300\n",
            "6/6 [==============================] - 0s 3ms/step - loss: 0.2580 - accuracy: 0.9619\n",
            "Epoch 87/300\n",
            "6/6 [==============================] - 0s 3ms/step - loss: 0.2564 - accuracy: 0.9619\n",
            "Epoch 88/300\n",
            "6/6 [==============================] - 0s 3ms/step - loss: 0.2524 - accuracy: 0.9619\n",
            "Epoch 89/300\n",
            "6/6 [==============================] - 0s 3ms/step - loss: 0.2387 - accuracy: 0.9619\n",
            "Epoch 90/300\n",
            "6/6 [==============================] - 0s 3ms/step - loss: 0.2358 - accuracy: 0.9524\n",
            "Epoch 91/300\n",
            "6/6 [==============================] - 0s 3ms/step - loss: 0.2380 - accuracy: 0.9524\n",
            "Epoch 92/300\n",
            "6/6 [==============================] - 0s 3ms/step - loss: 0.2287 - accuracy: 0.9714\n",
            "Epoch 93/300\n",
            "6/6 [==============================] - 0s 3ms/step - loss: 0.2213 - accuracy: 0.9714\n",
            "Epoch 94/300\n",
            "6/6 [==============================] - 0s 3ms/step - loss: 0.2114 - accuracy: 0.9714\n",
            "Epoch 95/300\n",
            "6/6 [==============================] - 0s 3ms/step - loss: 0.2075 - accuracy: 0.9619\n",
            "Epoch 96/300\n",
            "6/6 [==============================] - 0s 3ms/step - loss: 0.2021 - accuracy: 0.9619\n",
            "Epoch 97/300\n",
            "6/6 [==============================] - 0s 3ms/step - loss: 0.1960 - accuracy: 0.9619\n",
            "Epoch 98/300\n",
            "6/6 [==============================] - 0s 3ms/step - loss: 0.1912 - accuracy: 0.9619\n",
            "Epoch 99/300\n",
            "6/6 [==============================] - 0s 3ms/step - loss: 0.1870 - accuracy: 0.9619\n",
            "Epoch 100/300\n",
            "6/6 [==============================] - 0s 3ms/step - loss: 0.1811 - accuracy: 0.9524\n",
            "Epoch 101/300\n",
            "6/6 [==============================] - 0s 4ms/step - loss: 0.1757 - accuracy: 0.9714\n",
            "Epoch 102/300\n",
            "6/6 [==============================] - 0s 3ms/step - loss: 0.1746 - accuracy: 0.9524\n",
            "Epoch 103/300\n",
            "6/6 [==============================] - 0s 4ms/step - loss: 0.1696 - accuracy: 0.9714\n",
            "Epoch 104/300\n",
            "6/6 [==============================] - 0s 3ms/step - loss: 0.1656 - accuracy: 0.9619\n",
            "Epoch 105/300\n",
            "6/6 [==============================] - 0s 3ms/step - loss: 0.1603 - accuracy: 0.9524\n",
            "Epoch 106/300\n",
            "6/6 [==============================] - 0s 3ms/step - loss: 0.1554 - accuracy: 0.9714\n",
            "Epoch 107/300\n",
            "6/6 [==============================] - 0s 3ms/step - loss: 0.1539 - accuracy: 0.9714\n",
            "Epoch 108/300\n",
            "6/6 [==============================] - 0s 3ms/step - loss: 0.1524 - accuracy: 0.9714\n",
            "Epoch 109/300\n",
            "6/6 [==============================] - 0s 3ms/step - loss: 0.1476 - accuracy: 0.9714\n",
            "Epoch 110/300\n",
            "6/6 [==============================] - 0s 3ms/step - loss: 0.1454 - accuracy: 0.9714\n",
            "Epoch 111/300\n",
            "6/6 [==============================] - 0s 3ms/step - loss: 0.1410 - accuracy: 0.9714\n",
            "Epoch 112/300\n",
            "6/6 [==============================] - 0s 3ms/step - loss: 0.1382 - accuracy: 0.9524\n",
            "Epoch 113/300\n",
            "6/6 [==============================] - 0s 3ms/step - loss: 0.1381 - accuracy: 0.9619\n",
            "Epoch 114/300\n",
            "6/6 [==============================] - 0s 3ms/step - loss: 0.1365 - accuracy: 0.9619\n",
            "Epoch 115/300\n",
            "6/6 [==============================] - 0s 3ms/step - loss: 0.1340 - accuracy: 0.9714\n",
            "Epoch 116/300\n",
            "6/6 [==============================] - 0s 3ms/step - loss: 0.1301 - accuracy: 0.9524\n",
            "Epoch 117/300\n",
            "6/6 [==============================] - 0s 3ms/step - loss: 0.1412 - accuracy: 0.9619\n",
            "Epoch 118/300\n",
            "6/6 [==============================] - 0s 3ms/step - loss: 0.1215 - accuracy: 0.9714\n",
            "Epoch 119/300\n",
            "6/6 [==============================] - 0s 5ms/step - loss: 0.1395 - accuracy: 0.9524\n",
            "Epoch 120/300\n",
            "6/6 [==============================] - 0s 3ms/step - loss: 0.1308 - accuracy: 0.9524\n",
            "Epoch 121/300\n",
            "6/6 [==============================] - 0s 3ms/step - loss: 0.1223 - accuracy: 0.9714\n",
            "Epoch 122/300\n",
            "6/6 [==============================] - 0s 3ms/step - loss: 0.1211 - accuracy: 0.9714\n",
            "Epoch 123/300\n",
            "6/6 [==============================] - 0s 3ms/step - loss: 0.1176 - accuracy: 0.9524\n",
            "Epoch 124/300\n",
            "6/6 [==============================] - 0s 3ms/step - loss: 0.1167 - accuracy: 0.9714\n",
            "Epoch 125/300\n",
            "6/6 [==============================] - 0s 3ms/step - loss: 0.1144 - accuracy: 0.9714\n",
            "Epoch 126/300\n",
            "6/6 [==============================] - 0s 3ms/step - loss: 0.1171 - accuracy: 0.9619\n",
            "Epoch 127/300\n",
            "6/6 [==============================] - 0s 3ms/step - loss: 0.1094 - accuracy: 0.9714\n",
            "Epoch 128/300\n",
            "6/6 [==============================] - 0s 3ms/step - loss: 0.1172 - accuracy: 0.9619\n",
            "Epoch 129/300\n",
            "6/6 [==============================] - 0s 3ms/step - loss: 0.1140 - accuracy: 0.9619\n",
            "Epoch 130/300\n",
            "6/6 [==============================] - 0s 3ms/step - loss: 0.1165 - accuracy: 0.9714\n",
            "Epoch 131/300\n",
            "6/6 [==============================] - 0s 3ms/step - loss: 0.1141 - accuracy: 0.9619\n",
            "Epoch 132/300\n",
            "6/6 [==============================] - 0s 3ms/step - loss: 0.1103 - accuracy: 0.9619\n",
            "Epoch 133/300\n",
            "6/6 [==============================] - 0s 3ms/step - loss: 0.1251 - accuracy: 0.9524\n",
            "Epoch 134/300\n",
            "6/6 [==============================] - 0s 3ms/step - loss: 0.1116 - accuracy: 0.9619\n",
            "Epoch 135/300\n",
            "6/6 [==============================] - 0s 3ms/step - loss: 0.1058 - accuracy: 0.9619\n",
            "Epoch 136/300\n",
            "6/6 [==============================] - 0s 4ms/step - loss: 0.1041 - accuracy: 0.9714\n",
            "Epoch 137/300\n",
            "6/6 [==============================] - 0s 4ms/step - loss: 0.1055 - accuracy: 0.9714\n",
            "Epoch 138/300\n",
            "6/6 [==============================] - 0s 3ms/step - loss: 0.1027 - accuracy: 0.9619\n",
            "Epoch 139/300\n",
            "6/6 [==============================] - 0s 3ms/step - loss: 0.1029 - accuracy: 0.9524\n",
            "Epoch 140/300\n",
            "6/6 [==============================] - 0s 3ms/step - loss: 0.1096 - accuracy: 0.9619\n",
            "Epoch 141/300\n",
            "6/6 [==============================] - 0s 3ms/step - loss: 0.1025 - accuracy: 0.9619\n",
            "Epoch 142/300\n",
            "6/6 [==============================] - 0s 3ms/step - loss: 0.0978 - accuracy: 0.9714\n",
            "Epoch 143/300\n",
            "6/6 [==============================] - 0s 3ms/step - loss: 0.0977 - accuracy: 0.9714\n",
            "Epoch 144/300\n",
            "6/6 [==============================] - 0s 3ms/step - loss: 0.0976 - accuracy: 0.9714\n",
            "Epoch 145/300\n",
            "6/6 [==============================] - 0s 3ms/step - loss: 0.0964 - accuracy: 0.9714\n",
            "Epoch 146/300\n",
            "6/6 [==============================] - 0s 4ms/step - loss: 0.0961 - accuracy: 0.9714\n",
            "Epoch 147/300\n",
            "6/6 [==============================] - 0s 4ms/step - loss: 0.0963 - accuracy: 0.9714\n",
            "Epoch 148/300\n",
            "6/6 [==============================] - 0s 3ms/step - loss: 0.0950 - accuracy: 0.9714\n",
            "Epoch 149/300\n",
            "6/6 [==============================] - 0s 3ms/step - loss: 0.0963 - accuracy: 0.9619\n",
            "Epoch 150/300\n",
            "6/6 [==============================] - 0s 3ms/step - loss: 0.0930 - accuracy: 0.9714\n",
            "Epoch 151/300\n",
            "6/6 [==============================] - 0s 4ms/step - loss: 0.1033 - accuracy: 0.9619\n",
            "Epoch 152/300\n",
            "6/6 [==============================] - 0s 3ms/step - loss: 0.1026 - accuracy: 0.9619\n",
            "Epoch 153/300\n",
            "6/6 [==============================] - 0s 3ms/step - loss: 0.0954 - accuracy: 0.9714\n",
            "Epoch 154/300\n",
            "6/6 [==============================] - 0s 5ms/step - loss: 0.0921 - accuracy: 0.9714\n",
            "Epoch 155/300\n",
            "6/6 [==============================] - 0s 3ms/step - loss: 0.0918 - accuracy: 0.9714\n",
            "Epoch 156/300\n",
            "6/6 [==============================] - 0s 3ms/step - loss: 0.0931 - accuracy: 0.9714\n",
            "Epoch 157/300\n",
            "6/6 [==============================] - 0s 3ms/step - loss: 0.0909 - accuracy: 0.9714\n",
            "Epoch 158/300\n",
            "6/6 [==============================] - 0s 3ms/step - loss: 0.0899 - accuracy: 0.9714\n",
            "Epoch 159/300\n",
            "6/6 [==============================] - 0s 3ms/step - loss: 0.0954 - accuracy: 0.9619\n",
            "Epoch 160/300\n",
            "6/6 [==============================] - 0s 3ms/step - loss: 0.0939 - accuracy: 0.9714\n",
            "Epoch 161/300\n",
            "6/6 [==============================] - 0s 3ms/step - loss: 0.0938 - accuracy: 0.9619\n",
            "Epoch 162/300\n",
            "6/6 [==============================] - 0s 3ms/step - loss: 0.0890 - accuracy: 0.9714\n",
            "Epoch 163/300\n",
            "6/6 [==============================] - 0s 4ms/step - loss: 0.0891 - accuracy: 0.9714\n",
            "Epoch 164/300\n",
            "6/6 [==============================] - 0s 3ms/step - loss: 0.0906 - accuracy: 0.9619\n",
            "Epoch 165/300\n",
            "6/6 [==============================] - 0s 4ms/step - loss: 0.0887 - accuracy: 0.9714\n",
            "Epoch 166/300\n",
            "6/6 [==============================] - 0s 3ms/step - loss: 0.0867 - accuracy: 0.9714\n",
            "Epoch 167/300\n",
            "6/6 [==============================] - 0s 3ms/step - loss: 0.0876 - accuracy: 0.9714\n",
            "Epoch 168/300\n",
            "6/6 [==============================] - 0s 3ms/step - loss: 0.0876 - accuracy: 0.9619\n",
            "Epoch 169/300\n",
            "6/6 [==============================] - 0s 3ms/step - loss: 0.0881 - accuracy: 0.9619\n",
            "Epoch 170/300\n",
            "6/6 [==============================] - 0s 3ms/step - loss: 0.0861 - accuracy: 0.9619\n",
            "Epoch 171/300\n",
            "6/6 [==============================] - 0s 3ms/step - loss: 0.0914 - accuracy: 0.9619\n",
            "Epoch 172/300\n",
            "6/6 [==============================] - 0s 3ms/step - loss: 0.0845 - accuracy: 0.9714\n",
            "Epoch 173/300\n",
            "6/6 [==============================] - 0s 4ms/step - loss: 0.1017 - accuracy: 0.9524\n",
            "Epoch 174/300\n",
            "6/6 [==============================] - 0s 3ms/step - loss: 0.0909 - accuracy: 0.9619\n",
            "Epoch 175/300\n",
            "6/6 [==============================] - 0s 3ms/step - loss: 0.0826 - accuracy: 0.9714\n",
            "Epoch 176/300\n",
            "6/6 [==============================] - 0s 3ms/step - loss: 0.0863 - accuracy: 0.9619\n",
            "Epoch 177/300\n",
            "6/6 [==============================] - 0s 3ms/step - loss: 0.0870 - accuracy: 0.9619\n",
            "Epoch 178/300\n",
            "6/6 [==============================] - 0s 3ms/step - loss: 0.0843 - accuracy: 0.9714\n",
            "Epoch 179/300\n",
            "6/6 [==============================] - 0s 3ms/step - loss: 0.0843 - accuracy: 0.9714\n",
            "Epoch 180/300\n",
            "6/6 [==============================] - 0s 3ms/step - loss: 0.0838 - accuracy: 0.9714\n",
            "Epoch 181/300\n",
            "6/6 [==============================] - 0s 3ms/step - loss: 0.0823 - accuracy: 0.9714\n",
            "Epoch 182/300\n",
            "6/6 [==============================] - 0s 3ms/step - loss: 0.0837 - accuracy: 0.9619\n",
            "Epoch 183/300\n",
            "6/6 [==============================] - 0s 3ms/step - loss: 0.0850 - accuracy: 0.9714\n",
            "Epoch 184/300\n",
            "6/6 [==============================] - 0s 3ms/step - loss: 0.0828 - accuracy: 0.9714\n",
            "Epoch 185/300\n",
            "6/6 [==============================] - 0s 3ms/step - loss: 0.0942 - accuracy: 0.9619\n",
            "Epoch 186/300\n",
            "6/6 [==============================] - 0s 3ms/step - loss: 0.0817 - accuracy: 0.9619\n",
            "Epoch 187/300\n",
            "6/6 [==============================] - 0s 3ms/step - loss: 0.0822 - accuracy: 0.9714\n",
            "Epoch 188/300\n",
            "6/6 [==============================] - 0s 3ms/step - loss: 0.0862 - accuracy: 0.9524\n",
            "Epoch 189/300\n",
            "6/6 [==============================] - 0s 4ms/step - loss: 0.0823 - accuracy: 0.9714\n",
            "Epoch 190/300\n",
            "6/6 [==============================] - 0s 4ms/step - loss: 0.0801 - accuracy: 0.9714\n",
            "Epoch 191/300\n",
            "6/6 [==============================] - 0s 3ms/step - loss: 0.0824 - accuracy: 0.9619\n",
            "Epoch 192/300\n",
            "6/6 [==============================] - 0s 3ms/step - loss: 0.0793 - accuracy: 0.9714\n",
            "Epoch 193/300\n",
            "6/6 [==============================] - 0s 5ms/step - loss: 0.0798 - accuracy: 0.9714\n",
            "Epoch 194/300\n",
            "6/6 [==============================] - 0s 4ms/step - loss: 0.0803 - accuracy: 0.9714\n",
            "Epoch 195/300\n",
            "6/6 [==============================] - 0s 3ms/step - loss: 0.0821 - accuracy: 0.9714\n",
            "Epoch 196/300\n",
            "6/6 [==============================] - 0s 3ms/step - loss: 0.0796 - accuracy: 0.9714\n",
            "Epoch 197/300\n",
            "6/6 [==============================] - 0s 4ms/step - loss: 0.0799 - accuracy: 0.9714\n",
            "Epoch 198/300\n",
            "6/6 [==============================] - 0s 3ms/step - loss: 0.0792 - accuracy: 0.9714\n",
            "Epoch 199/300\n",
            "6/6 [==============================] - 0s 3ms/step - loss: 0.0805 - accuracy: 0.9714\n",
            "Epoch 200/300\n",
            "6/6 [==============================] - 0s 4ms/step - loss: 0.0784 - accuracy: 0.9714\n",
            "Epoch 201/300\n",
            "6/6 [==============================] - 0s 3ms/step - loss: 0.0799 - accuracy: 0.9714\n",
            "Epoch 202/300\n",
            "6/6 [==============================] - 0s 3ms/step - loss: 0.0813 - accuracy: 0.9714\n",
            "Epoch 203/300\n",
            "6/6 [==============================] - 0s 4ms/step - loss: 0.0786 - accuracy: 0.9714\n",
            "Epoch 204/300\n",
            "6/6 [==============================] - 0s 3ms/step - loss: 0.0789 - accuracy: 0.9714\n",
            "Epoch 205/300\n",
            "6/6 [==============================] - 0s 3ms/step - loss: 0.0849 - accuracy: 0.9619\n",
            "Epoch 206/300\n",
            "6/6 [==============================] - 0s 4ms/step - loss: 0.0790 - accuracy: 0.9619\n",
            "Epoch 207/300\n",
            "6/6 [==============================] - 0s 3ms/step - loss: 0.0795 - accuracy: 0.9714\n",
            "Epoch 208/300\n",
            "6/6 [==============================] - 0s 3ms/step - loss: 0.0806 - accuracy: 0.9619\n",
            "Epoch 209/300\n",
            "6/6 [==============================] - 0s 3ms/step - loss: 0.0776 - accuracy: 0.9714\n",
            "Epoch 210/300\n",
            "6/6 [==============================] - 0s 3ms/step - loss: 0.0810 - accuracy: 0.9619\n",
            "Epoch 211/300\n",
            "6/6 [==============================] - 0s 3ms/step - loss: 0.0811 - accuracy: 0.9619\n",
            "Epoch 212/300\n",
            "6/6 [==============================] - 0s 3ms/step - loss: 0.0765 - accuracy: 0.9714\n",
            "Epoch 213/300\n",
            "6/6 [==============================] - 0s 4ms/step - loss: 0.0834 - accuracy: 0.9524\n",
            "Epoch 214/300\n",
            "6/6 [==============================] - 0s 3ms/step - loss: 0.0748 - accuracy: 0.9714\n",
            "Epoch 215/300\n",
            "6/6 [==============================] - 0s 4ms/step - loss: 0.0877 - accuracy: 0.9619\n",
            "Epoch 216/300\n",
            "6/6 [==============================] - 0s 4ms/step - loss: 0.0898 - accuracy: 0.9619\n",
            "Epoch 217/300\n",
            "6/6 [==============================] - 0s 3ms/step - loss: 0.0774 - accuracy: 0.9619\n",
            "Epoch 218/300\n",
            "6/6 [==============================] - 0s 4ms/step - loss: 0.0774 - accuracy: 0.9714\n",
            "Epoch 219/300\n",
            "6/6 [==============================] - 0s 3ms/step - loss: 0.0780 - accuracy: 0.9714\n",
            "Epoch 220/300\n",
            "6/6 [==============================] - 0s 4ms/step - loss: 0.0782 - accuracy: 0.9714\n",
            "Epoch 221/300\n",
            "6/6 [==============================] - 0s 3ms/step - loss: 0.0834 - accuracy: 0.9619\n",
            "Epoch 222/300\n",
            "6/6 [==============================] - 0s 5ms/step - loss: 0.0760 - accuracy: 0.9714\n",
            "Epoch 223/300\n",
            "6/6 [==============================] - 0s 4ms/step - loss: 0.0889 - accuracy: 0.9619\n",
            "Epoch 224/300\n",
            "6/6 [==============================] - 0s 4ms/step - loss: 0.0857 - accuracy: 0.9524\n",
            "Epoch 225/300\n",
            "6/6 [==============================] - 0s 3ms/step - loss: 0.0743 - accuracy: 0.9714\n",
            "Epoch 226/300\n",
            "6/6 [==============================] - 0s 3ms/step - loss: 0.0747 - accuracy: 0.9714\n",
            "Epoch 227/300\n",
            "6/6 [==============================] - 0s 3ms/step - loss: 0.0762 - accuracy: 0.9619\n",
            "Epoch 228/300\n",
            "6/6 [==============================] - 0s 3ms/step - loss: 0.0794 - accuracy: 0.9619\n",
            "Epoch 229/300\n",
            "6/6 [==============================] - 0s 3ms/step - loss: 0.0761 - accuracy: 0.9714\n",
            "Epoch 230/300\n",
            "6/6 [==============================] - 0s 3ms/step - loss: 0.0752 - accuracy: 0.9619\n",
            "Epoch 231/300\n",
            "6/6 [==============================] - 0s 3ms/step - loss: 0.0760 - accuracy: 0.9619\n",
            "Epoch 232/300\n",
            "6/6 [==============================] - 0s 4ms/step - loss: 0.0758 - accuracy: 0.9714\n",
            "Epoch 233/300\n",
            "6/6 [==============================] - 0s 4ms/step - loss: 0.0749 - accuracy: 0.9714\n",
            "Epoch 234/300\n",
            "6/6 [==============================] - 0s 3ms/step - loss: 0.0814 - accuracy: 0.9714\n",
            "Epoch 235/300\n",
            "6/6 [==============================] - 0s 4ms/step - loss: 0.0741 - accuracy: 0.9714\n",
            "Epoch 236/300\n",
            "6/6 [==============================] - 0s 3ms/step - loss: 0.0750 - accuracy: 0.9714\n",
            "Epoch 237/300\n",
            "6/6 [==============================] - 0s 3ms/step - loss: 0.0718 - accuracy: 0.9714\n",
            "Epoch 238/300\n",
            "6/6 [==============================] - 0s 4ms/step - loss: 0.0775 - accuracy: 0.9619\n",
            "Epoch 239/300\n",
            "6/6 [==============================] - 0s 3ms/step - loss: 0.0791 - accuracy: 0.9714\n",
            "Epoch 240/300\n",
            "6/6 [==============================] - 0s 5ms/step - loss: 0.0749 - accuracy: 0.9714\n",
            "Epoch 241/300\n",
            "6/6 [==============================] - 0s 3ms/step - loss: 0.0785 - accuracy: 0.9619\n",
            "Epoch 242/300\n",
            "6/6 [==============================] - 0s 4ms/step - loss: 0.0818 - accuracy: 0.9619\n",
            "Epoch 243/300\n",
            "6/6 [==============================] - 0s 3ms/step - loss: 0.0751 - accuracy: 0.9714\n",
            "Epoch 244/300\n",
            "6/6 [==============================] - 0s 3ms/step - loss: 0.0747 - accuracy: 0.9714\n",
            "Epoch 245/300\n",
            "6/6 [==============================] - 0s 3ms/step - loss: 0.0707 - accuracy: 0.9714\n",
            "Epoch 246/300\n",
            "6/6 [==============================] - 0s 3ms/step - loss: 0.0782 - accuracy: 0.9619\n",
            "Epoch 247/300\n",
            "6/6 [==============================] - 0s 3ms/step - loss: 0.0735 - accuracy: 0.9714\n",
            "Epoch 248/300\n",
            "6/6 [==============================] - 0s 3ms/step - loss: 0.0825 - accuracy: 0.9714\n",
            "Epoch 249/300\n",
            "6/6 [==============================] - 0s 4ms/step - loss: 0.0740 - accuracy: 0.9714\n",
            "Epoch 250/300\n",
            "6/6 [==============================] - 0s 3ms/step - loss: 0.0866 - accuracy: 0.9619\n",
            "Epoch 251/300\n",
            "6/6 [==============================] - 0s 3ms/step - loss: 0.0789 - accuracy: 0.9619\n",
            "Epoch 252/300\n",
            "6/6 [==============================] - 0s 3ms/step - loss: 0.0734 - accuracy: 0.9714\n",
            "Epoch 253/300\n",
            "6/6 [==============================] - 0s 3ms/step - loss: 0.0712 - accuracy: 0.9714\n",
            "Epoch 254/300\n",
            "6/6 [==============================] - 0s 4ms/step - loss: 0.0753 - accuracy: 0.9619\n",
            "Epoch 255/300\n",
            "6/6 [==============================] - 0s 3ms/step - loss: 0.0792 - accuracy: 0.9619\n",
            "Epoch 256/300\n",
            "6/6 [==============================] - 0s 3ms/step - loss: 0.0718 - accuracy: 0.9714\n",
            "Epoch 257/300\n",
            "6/6 [==============================] - 0s 3ms/step - loss: 0.0767 - accuracy: 0.9714\n",
            "Epoch 258/300\n",
            "6/6 [==============================] - 0s 5ms/step - loss: 0.0679 - accuracy: 0.9714\n",
            "Epoch 259/300\n",
            "6/6 [==============================] - 0s 4ms/step - loss: 0.0863 - accuracy: 0.9619\n",
            "Epoch 260/300\n",
            "6/6 [==============================] - 0s 3ms/step - loss: 0.0797 - accuracy: 0.9619\n",
            "Epoch 261/300\n",
            "6/6 [==============================] - 0s 3ms/step - loss: 0.0736 - accuracy: 0.9714\n",
            "Epoch 262/300\n",
            "6/6 [==============================] - 0s 4ms/step - loss: 0.0749 - accuracy: 0.9714\n",
            "Epoch 263/300\n",
            "6/6 [==============================] - 0s 3ms/step - loss: 0.0723 - accuracy: 0.9714\n",
            "Epoch 264/300\n",
            "6/6 [==============================] - 0s 4ms/step - loss: 0.0721 - accuracy: 0.9714\n",
            "Epoch 265/300\n",
            "6/6 [==============================] - 0s 3ms/step - loss: 0.0709 - accuracy: 0.9714\n",
            "Epoch 266/300\n",
            "6/6 [==============================] - 0s 3ms/step - loss: 0.0720 - accuracy: 0.9714\n",
            "Epoch 267/300\n",
            "6/6 [==============================] - 0s 3ms/step - loss: 0.0714 - accuracy: 0.9714\n",
            "Epoch 268/300\n",
            "6/6 [==============================] - 0s 3ms/step - loss: 0.0751 - accuracy: 0.9619\n",
            "Epoch 269/300\n",
            "6/6 [==============================] - 0s 5ms/step - loss: 0.0718 - accuracy: 0.9714\n",
            "Epoch 270/300\n",
            "6/6 [==============================] - 0s 4ms/step - loss: 0.0720 - accuracy: 0.9714\n",
            "Epoch 271/300\n",
            "6/6 [==============================] - 0s 4ms/step - loss: 0.0764 - accuracy: 0.9619\n",
            "Epoch 272/300\n",
            "6/6 [==============================] - 0s 3ms/step - loss: 0.0734 - accuracy: 0.9619\n",
            "Epoch 273/300\n",
            "6/6 [==============================] - 0s 4ms/step - loss: 0.0707 - accuracy: 0.9714\n",
            "Epoch 274/300\n",
            "6/6 [==============================] - 0s 4ms/step - loss: 0.0711 - accuracy: 0.9714\n",
            "Epoch 275/300\n",
            "6/6 [==============================] - 0s 4ms/step - loss: 0.0725 - accuracy: 0.9714\n",
            "Epoch 276/300\n",
            "6/6 [==============================] - 0s 3ms/step - loss: 0.0730 - accuracy: 0.9714\n",
            "Epoch 277/300\n",
            "6/6 [==============================] - 0s 3ms/step - loss: 0.0711 - accuracy: 0.9714\n",
            "Epoch 278/300\n",
            "6/6 [==============================] - 0s 4ms/step - loss: 0.0746 - accuracy: 0.9714\n",
            "Epoch 279/300\n",
            "6/6 [==============================] - 0s 3ms/step - loss: 0.0717 - accuracy: 0.9714\n",
            "Epoch 280/300\n",
            "6/6 [==============================] - 0s 3ms/step - loss: 0.0694 - accuracy: 0.9714\n",
            "Epoch 281/300\n",
            "6/6 [==============================] - 0s 3ms/step - loss: 0.0717 - accuracy: 0.9714\n",
            "Epoch 282/300\n",
            "6/6 [==============================] - 0s 3ms/step - loss: 0.0732 - accuracy: 0.9714\n",
            "Epoch 283/300\n",
            "6/6 [==============================] - 0s 3ms/step - loss: 0.0735 - accuracy: 0.9714\n",
            "Epoch 284/300\n",
            "6/6 [==============================] - 0s 3ms/step - loss: 0.0746 - accuracy: 0.9714\n",
            "Epoch 285/300\n",
            "6/6 [==============================] - 0s 4ms/step - loss: 0.0735 - accuracy: 0.9714\n",
            "Epoch 286/300\n",
            "6/6 [==============================] - 0s 3ms/step - loss: 0.0709 - accuracy: 0.9714\n",
            "Epoch 287/300\n",
            "6/6 [==============================] - 0s 3ms/step - loss: 0.0812 - accuracy: 0.9619\n",
            "Epoch 288/300\n",
            "6/6 [==============================] - 0s 3ms/step - loss: 0.0784 - accuracy: 0.9619\n",
            "Epoch 289/300\n",
            "6/6 [==============================] - 0s 3ms/step - loss: 0.0700 - accuracy: 0.9714\n",
            "Epoch 290/300\n",
            "6/6 [==============================] - 0s 3ms/step - loss: 0.0709 - accuracy: 0.9714\n",
            "Epoch 291/300\n",
            "6/6 [==============================] - 0s 4ms/step - loss: 0.0708 - accuracy: 0.9714\n",
            "Epoch 292/300\n",
            "6/6 [==============================] - 0s 4ms/step - loss: 0.0704 - accuracy: 0.9714\n",
            "Epoch 293/300\n",
            "6/6 [==============================] - 0s 3ms/step - loss: 0.0699 - accuracy: 0.9714\n",
            "Epoch 294/300\n",
            "6/6 [==============================] - 0s 3ms/step - loss: 0.0698 - accuracy: 0.9714\n",
            "Epoch 295/300\n",
            "6/6 [==============================] - 0s 4ms/step - loss: 0.0772 - accuracy: 0.9619\n",
            "Epoch 296/300\n",
            "6/6 [==============================] - 0s 3ms/step - loss: 0.0743 - accuracy: 0.9619\n",
            "Epoch 297/300\n",
            "6/6 [==============================] - 0s 4ms/step - loss: 0.0716 - accuracy: 0.9714\n",
            "Epoch 298/300\n",
            "6/6 [==============================] - 0s 3ms/step - loss: 0.0765 - accuracy: 0.9619\n",
            "Epoch 299/300\n",
            "6/6 [==============================] - 0s 4ms/step - loss: 0.0682 - accuracy: 0.9714\n",
            "Epoch 300/300\n",
            "6/6 [==============================] - 0s 4ms/step - loss: 0.0739 - accuracy: 0.9619\n"
          ]
        },
        {
          "output_type": "execute_result",
          "data": {
            "text/plain": [
              "<keras.callbacks.History at 0x7ff3b6970430>"
            ]
          },
          "metadata": {},
          "execution_count": 66
        }
      ],
      "source": [
        "\n",
        "# fit the model\n",
        "model.fit(X_train, y_train, epochs=300, batch_size=X_train.shape[0])\n",
        "\n"
      ]
    },
    {
      "cell_type": "markdown",
      "metadata": {
        "id": "Ig0ciIZC83IH"
      },
      "source": [
        "<div dir=rtl>\n",
        "\n",
        "## בחינת המודל המאומן הראשוני"
      ]
    },
    {
      "cell_type": "code",
      "execution_count": null,
      "metadata": {
        "colab": {
          "base_uri": "https://localhost:8080/"
        },
        "id": "57CgaWgN83UT",
        "outputId": "d0a65c5e-c822-49a8-8f0b-553210abc2f8"
      },
      "outputs": [
        {
          "output_type": "stream",
          "name": "stdout",
          "text": [
            "2/2 [==============================] - 0s 6ms/step - loss: 0.0545 - accuracy: 0.9778\n",
            " Test Accuracy: 0.978  \n",
            " Loss: 0.05446479469537735\n",
            " Lan(Loss): -3.806662549374966\n"
          ]
        }
      ],
      "source": [
        "# evaluate the model\n",
        "loss, acc = model.evaluate(X_test, y_test)\n",
        "print(f' Test Accuracy: {acc:.3f}  \\n Loss: {loss}\\n Lan(Loss): {np.log(1-acc+1e-99)}')\n",
        "\n"
      ]
    },
    {
      "cell_type": "markdown",
      "metadata": {
        "id": "4xdKys3WNTyH"
      },
      "source": [
        "<div dir=rtl>\n",
        "\n",
        "## חישוב BIC ו- AIC"
      ]
    },
    {
      "cell_type": "markdown",
      "metadata": {
        "id": "40Xz5Ew0GZl6"
      },
      "source": [
        "\n",
        "AIC = n*ln(E) + 2k\n",
        "\n",
        "BIC = n* ln(E) + k*ln(n)\n",
        "\n",
        "Where:\n",
        "\n",
        "  k: #of parameters\n",
        "\n",
        "  n: # of samples in the train set\n",
        "\n",
        "  E: Network error"
      ]
    },
    {
      "cell_type": "code",
      "execution_count": null,
      "metadata": {
        "colab": {
          "base_uri": "https://localhost:8080/"
        },
        "id": "ikrgwM8o2z_o",
        "outputId": "020a5e9b-4215-4ebc-8f9d-c900f895df7d"
      },
      "outputs": [
        {
          "output_type": "stream",
          "name": "stdout",
          "text": [
            "Error: 0.02222222089767456\n",
            "Number of paremters: 315\n",
            "Number of samples in the train set:105\n",
            "AIC: 230.30043231562854\n",
            "BIC: 1066.2979426152483\n"
          ]
        }
      ],
      "source": [
        "k = model.count_params()\n",
        "n = X_train.shape[0]\n",
        "E = 1-acc+1e-99\n",
        "print(f\"Error: {E}\")\n",
        "print(f\"Number of paremters: {k}\")\n",
        "print(f\"Number of samples in the train set:{n}\")\n",
        "\n",
        "AIC = n*np.log(E) + 2*k\n",
        "BIC = n*np.log(E) + k*np.log(n)\n",
        "\n",
        "print(f\"AIC: {AIC}\")\n",
        "print(f\"BIC: {BIC}\")"
      ]
    },
    {
      "cell_type": "markdown",
      "metadata": {
        "id": "7piFZ064iaG0"
      },
      "source": [
        "<div dir=rtl>\n",
        "\n",
        "## בחינת מודלים בעלי פרמטרים שונים"
      ]
    },
    {
      "cell_type": "code",
      "execution_count": null,
      "metadata": {
        "id": "l3794e-CXkq4"
      },
      "outputs": [],
      "source": [
        "def create_and_eval(n_hidden_layers, n_neurons, activation_func, optimizer):\n",
        "  #Create input layer and first hidden layer\n",
        "  model = Sequential([Dense(n_neurons, \n",
        "                            activation=activation_func, \n",
        "                            input_dim=X_train.shape[1])]) \n",
        "\n",
        "  #Create the rest of the hidden layers according to parameters\n",
        "  for i in range(n_hidden_layers-1):\n",
        "    model.add(Dense(n_neurons, activation=activation_func))\n",
        "  \n",
        "  #Create output layer  \n",
        "  model.add(Dense(3, activation='softmax'))\n",
        "\n",
        "  model.compile(optimizer=optimizer, loss='sparse_categorical_crossentropy',batch_size=X_train.shape[0], metrics=['accuracy'])\n",
        "  model.fit(X_train, y_train, epochs=60, verbose=0)\n",
        "\n",
        "  #Evaluate model\n",
        "  test_loss, test_acc = model.evaluate(X_test, y_test, verbose=0)\n",
        "\n",
        "  k = model.count_params()\n",
        "  n = X_train.shape[0]\n",
        "  E = 1- test_acc +1e-99    #The addition of the epsilon is for preventing ln(0) in case of 100% accuracy\n",
        "  AIC = n*np.log(E) + 2*k\n",
        "  BIC = n*np.log(E) + k*np.log(n) \n",
        "\n",
        "  return test_acc, AIC, BIC "
      ]
    },
    {
      "cell_type": "markdown",
      "metadata": {
        "id": "HKipDBVrS8PV"
      },
      "source": [
        "<div dir=rtl>\n",
        "\n",
        "### מספר שכבות שונה"
      ]
    },
    {
      "cell_type": "code",
      "execution_count": null,
      "metadata": {
        "colab": {
          "base_uri": "https://localhost:8080/"
        },
        "id": "YYWaHlJsZKN0",
        "outputId": "7c0d7525-0752-49ce-8f04-e35c0699b8e5"
      },
      "outputs": [
        {
          "output_type": "stream",
          "name": "stdout",
          "text": [
            "Test Accuracy Mean: 0.787\n",
            "Test Accuracy StD: 0.078\n",
            "Test Accuracy Mean: 0.858\n",
            "Test Accuracy StD: 0.093\n",
            "Test Accuracy Mean: 0.936\n",
            "Test Accuracy StD: 0.076\n",
            "Test Accuracy Mean: 0.976\n",
            "Test Accuracy StD: 0.032\n",
            "Test Accuracy Mean: 0.971\n",
            "Test Accuracy StD: 0.026\n",
            "Test Accuracy Mean: 0.960\n",
            "Test Accuracy StD: 0.026\n",
            "Test Accuracy Mean: 0.984\n",
            "Test Accuracy StD: 0.017\n",
            "Test Accuracy Mean: 0.971\n",
            "Test Accuracy StD: 0.026\n",
            "Test Accuracy Mean: 0.967\n",
            "Test Accuracy StD: 0.044\n",
            "Test Accuracy Mean: 0.958\n",
            "Test Accuracy StD: 0.032\n",
            "Test Accuracy Mean: 0.969\n",
            "Test Accuracy StD: 0.033\n",
            "Test Accuracy Mean: 0.964\n",
            "Test Accuracy StD: 0.046\n",
            "Test Accuracy Mean: 0.944\n",
            "Test Accuracy StD: 0.050\n",
            "Test Accuracy Mean: 0.960\n",
            "Test Accuracy StD: 0.058\n",
            "Test Accuracy Mean: 0.978\n",
            "Test Accuracy StD: 0.022\n"
          ]
        }
      ],
      "source": [
        "acc_means = []\n",
        "acc_std = []\n",
        "AIC_means = []\n",
        "AIC_std = []\n",
        "BIC_means = []\n",
        "BIC_std = []\n",
        "\n",
        "x_ = []\n",
        "for j in range(15):\n",
        "  acc_t = []\n",
        "  AIC_t = []\n",
        "  BIC_t = []\n",
        "  \n",
        "  for i in range(10): # For each selected parameter value we run the training 10 times\n",
        "    optimizer='adam'\n",
        "    activation_func = 'relu'\n",
        "    acc, AIC, BIC = create_and_eval(n_hidden_layers=j+1, n_neurons=16, activation_func=activation_func, optimizer=optimizer)\n",
        "    acc_t.append(acc)\n",
        "    AIC_t.append(AIC)\n",
        "    BIC_t.append(BIC)\n",
        "    \n",
        "  # model.summary()\n",
        "  print(f'Test Accuracy Mean: {np.mean(acc_t):.3f}')\n",
        "  print(f'Test Accuracy StD: {np.std(acc_t):.3f}')\n",
        "  x_.append(j+1)\n",
        "  acc_means.append(np.mean(acc_t)) \n",
        "  acc_std.append(np.std(acc_t))\n",
        "  AIC_means.append(np.mean(AIC_t)) \n",
        "  AIC_std.append(np.std(AIC_t))\n",
        "  BIC_means.append(np.mean(BIC_t)) \n",
        "  BIC_std.append(np.std(BIC_t))\n",
        "\n"
      ]
    },
    {
      "cell_type": "code",
      "execution_count": null,
      "metadata": {
        "id": "wRviiLssJ9mh"
      },
      "outputs": [],
      "source": [
        "def plot_results(means, stds, y_label, x_, x_label):\n",
        "\n",
        "    # Create a figure and axis\n",
        "    fig, ax = plt.subplots()\n",
        "    \n",
        "    # Plot the accuracy values and include error bars representing the standard deviation\n",
        "    ax.errorbar(x_, means, yerr=stds, fmt='o',linestyle='None',xuplims=True, xlolims=True)\n",
        "    \n",
        "    # Set plot labels\n",
        "    ax.set_ylabel(y_label)\n",
        "    ax.set_xlabel(x_label)\n",
        "    \n",
        "    # Show the plot\n",
        "    plt.show()"
      ]
    },
    {
      "cell_type": "code",
      "execution_count": null,
      "metadata": {
        "colab": {
          "base_uri": "https://localhost:8080/",
          "height": 300
        },
        "id": "trpr1EbpOVTc",
        "outputId": "522e318a-7915-4ce6-cf8a-15fa01e9f698"
      },
      "outputs": [
        {
          "output_type": "display_data",
          "data": {
            "text/plain": [
              "<Figure size 432x288 with 1 Axes>"
            ],
            "image/png": "[encoded data removed]"
          },
          "metadata": {
            "needs_background": "light"
          }
        }
      ],
      "source": [
        "\n",
        "plot_results(acc_means, acc_std, \"Accuracy\", x_, \"Number of Hidden Layers\")"
      ]
    },
    {
      "cell_type": "code",
      "execution_count": null,
      "metadata": {
        "colab": {
          "base_uri": "https://localhost:8080/",
          "height": 300
        },
        "id": "N0eNhBXzFD5i",
        "outputId": "046eb7a9-c596-43d5-a0cc-708571c26d81"
      },
      "outputs": [
        {
          "output_type": "display_data",
          "data": {
            "text/plain": [
              "<Figure size 432x288 with 1 Axes>"
            ],
            "image/png": "[encoded data removed]"
          },
          "metadata": {
            "needs_background": "light"
          }
        }
      ],
      "source": [
        "plot_results(AIC_means, AIC_std, \"AIC\", x_, \"Number of Hidden Layers\")"
      ]
    },
    {
      "cell_type": "code",
      "execution_count": null,
      "metadata": {
        "colab": {
          "base_uri": "https://localhost:8080/",
          "height": 300
        },
        "id": "4zUdL0GlFP32",
        "outputId": "a27444ad-ea32-4ce0-c8b4-c964a86c81c4"
      },
      "outputs": [
        {
          "output_type": "display_data",
          "data": {
            "text/plain": [
              "<Figure size 432x288 with 1 Axes>"
            ],
            "image/png": "[encoded data removed]"
          },
          "metadata": {
            "needs_background": "light"
          }
        }
      ],
      "source": [
        "plot_results(BIC_means, BIC_std, \"BIC\", x_, \"Number of Hidden Layers\")"
      ]
    },
    {
      "cell_type": "markdown",
      "metadata": {
        "id": "0cl6tlLCFxZl"
      },
      "source": [
        "<div dir=rtl>\n",
        "\n",
        "####  בחירת ההיפר פרמטר על פי תוצאות המדדים של AIC/BIC\n",
        "\n",
        "על פי התוצאות כאן ניכר שמספר השכבות הנסתרות האופטימלי הוא 4.  שכן עבור ערך זה גם הדיוק מהגבוהיים ביותר וגם מדדי הAIC ו ה=BIC הנמוכים ביותר"
      ]
    },
    {
      "cell_type": "markdown",
      "metadata": {
        "id": "Fh6ABunjjuMp"
      },
      "source": [
        "<div dir=rtl>\n",
        "\n",
        "### גודל שכבות שונה\n"
      ]
    },
    {
      "cell_type": "code",
      "execution_count": null,
      "metadata": {
        "colab": {
          "base_uri": "https://localhost:8080/"
        },
        "id": "xXNO4lxvjqe5",
        "outputId": "f1b9d82f-1db6-4a67-9b4b-e70b81b5960a"
      },
      "outputs": [
        {
          "output_type": "stream",
          "name": "stdout",
          "text": [
            "Test Accuracy Mean: 0.383\n",
            "Test Accuracy StD: 0.170\n",
            "Test Accuracy Mean: 0.436\n",
            "Test Accuracy StD: 0.179\n",
            "Test Accuracy Mean: 0.625\n",
            "Test Accuracy StD: 0.208\n",
            "Test Accuracy Mean: 0.728\n",
            "Test Accuracy StD: 0.102\n",
            "Test Accuracy Mean: 0.808\n",
            "Test Accuracy StD: 0.111\n",
            "Test Accuracy Mean: 0.900\n",
            "Test Accuracy StD: 0.094\n",
            "Test Accuracy Mean: 0.992\n",
            "Test Accuracy StD: 0.011\n",
            "Test Accuracy Mean: 0.958\n",
            "Test Accuracy StD: 0.042\n",
            "Test Accuracy Mean: 0.964\n",
            "Test Accuracy StD: 0.035\n",
            "Test Accuracy Mean: 0.986\n",
            "Test Accuracy StD: 0.015\n",
            "Test Accuracy Mean: 0.975\n",
            "Test Accuracy StD: 0.026\n",
            "Test Accuracy Mean: 0.989\n",
            "Test Accuracy StD: 0.016\n",
            "Test Accuracy Mean: 0.986\n",
            "Test Accuracy StD: 0.022\n",
            "Test Accuracy Mean: 0.969\n",
            "Test Accuracy StD: 0.029\n",
            "Test Accuracy Mean: 0.989\n",
            "Test Accuracy StD: 0.019\n",
            "Test Accuracy Mean: 0.989\n",
            "Test Accuracy StD: 0.016\n",
            "Test Accuracy Mean: 0.967\n",
            "Test Accuracy StD: 0.037\n",
            "Test Accuracy Mean: 0.964\n",
            "Test Accuracy StD: 0.029\n",
            "Test Accuracy Mean: 0.983\n",
            "Test Accuracy StD: 0.029\n",
            "Test Accuracy Mean: 0.975\n",
            "Test Accuracy StD: 0.028\n"
          ]
        }
      ],
      "source": [
        "\n",
        "acc_means = []\n",
        "acc_std = []\n",
        "AIC_means = []\n",
        "AIC_std = []\n",
        "BIC_means = []\n",
        "BIC_std = []\n",
        "\n",
        "x_ = []\n",
        "for j in range(20):\n",
        "  acc_t = []\n",
        "  for i in range(8):\n",
        "    optimizer='adam'\n",
        "    activation_func = 'relu'\n",
        "    acc, AIC, BIC = create_and_eval(n_hidden_layers=4, n_neurons=2*(j+1), activation_func=activation_func, optimizer=optimizer)\n",
        "    acc_t.append(acc)\n",
        "    AIC_t.append(AIC)\n",
        "    BIC_t.append(BIC)\n",
        "    \n",
        "  # model.summary()\n",
        "  print(f'Test Accuracy Mean: {np.mean(acc_t):.3f}')\n",
        "  print(f'Test Accuracy StD: {np.std(acc_t):.3f}')\n",
        "\n",
        "  x_.append(2*(j+1))\n",
        "  acc_means.append(np.mean(acc_t)) \n",
        "  acc_std.append(np.std(acc_t))\n",
        "  AIC_means.append(np.mean(AIC_t)) \n",
        "  AIC_std.append(np.std(AIC_t))\n",
        "  BIC_means.append(np.mean(BIC_t)) \n",
        "  BIC_std.append(np.std(BIC_t))\n"
      ]
    },
    {
      "cell_type": "code",
      "execution_count": null,
      "metadata": {
        "colab": {
          "base_uri": "https://localhost:8080/",
          "height": 823
        },
        "id": "VLZEfBcCT3mp",
        "outputId": "d61fa089-8c0f-44e6-fe39-7540c6cb125c"
      },
      "outputs": [
        {
          "output_type": "display_data",
          "data": {
            "text/plain": [
              "<Figure size 432x288 with 1 Axes>"
            ],
            "image/png": "[encoded data removed]"
          },
          "metadata": {
            "needs_background": "light"
          }
        },
        {
          "output_type": "display_data",
          "data": {
            "text/plain": [
              "<Figure size 432x288 with 1 Axes>"
            ],
            "image/png": "[encoded data removed]"
          },
          "metadata": {
            "needs_background": "light"
          }
        },
        {
          "output_type": "display_data",
          "data": {
            "text/plain": [
              "<Figure size 432x288 with 1 Axes>"
            ],
            "image/png": "[encoded data removed]"
          },
          "metadata": {
            "needs_background": "light"
          }
        }
      ],
      "source": [
        "\n",
        "plot_results(acc_means, acc_std, \"Accuracy\", x_, \"Size of hidden layers\")\n",
        "plot_results(AIC_means, AIC_std, \"AIC\", x_, \"Size of hidden layers\")\n",
        "plot_results(BIC_means, BIC_std, \"BIC\", x_, \"Size of hidden layers\")"
      ]
    },
    {
      "cell_type": "markdown",
      "source": [
        "<div dir=rtl>\n",
        "\n",
        "####  בחירת ההיפר פרמטר על פי תוצאות המדדים של AIC/BIC\n",
        "\n",
        "על פי התוצאות כאן ניכר שמספר הנוירונים האופטימלי לשכבה הוא  14.  שכן עבור ערך זה גם הדיוק הגבוה ביותר. במקרה זה מדדי הAIC ו ה=BIC לא תפסו את הבדלים הקטנים בין המודלים"
      ],
      "metadata": {
        "id": "w5jUiim17HIt"
      }
    },
    {
      "cell_type": "markdown",
      "metadata": {
        "id": "-AapGJKPkOik"
      },
      "source": [
        "<div dir=rtl>\n",
        "\n",
        "### פונקציית אקטיבציה שונה"
      ]
    },
    {
      "cell_type": "code",
      "execution_count": null,
      "metadata": {
        "colab": {
          "base_uri": "https://localhost:8080/"
        },
        "id": "g77uF70ekOF_",
        "outputId": "59214c40-879d-48a1-d6e1-6ce3419333b7"
      },
      "outputs": [
        {
          "output_type": "stream",
          "name": "stdout",
          "text": [
            "Test Accuracy Mean: 0.675\n",
            "Test Accuracy StD: 0.015\n",
            "Test Accuracy Mean: 0.986\n",
            "Test Accuracy StD: 0.011\n",
            "Test Accuracy Mean: 0.978\n",
            "Test Accuracy StD: 0.016\n",
            "Test Accuracy Mean: 0.989\n",
            "Test Accuracy StD: 0.016\n"
          ]
        }
      ],
      "source": [
        "\n",
        "acc_means = []\n",
        "acc_std = []\n",
        "x_ = []\n",
        "for activation_func in ['sigmoid', 'tanh','relu','elu']:\n",
        "  acc_t = []\n",
        "  for i in range(8):\n",
        "    optimizer='adam'\n",
        "    acc, AIC, BIC = create_and_eval(n_hidden_layers=3, n_neurons=20, activation_func=activation_func, optimizer=optimizer)\n",
        "    acc_t.append(acc)\n",
        "\n",
        "  print(f'Test Accuracy Mean: {np.mean(acc_t):.3f}')\n",
        "  print(f'Test Accuracy StD: {np.std(acc_t):.3f}')\n",
        "  x_.append(activation_func)\n",
        "  acc_means.append(np.mean(acc_t)) \n",
        "  acc_std.append(np.std(acc_t))\n",
        "\n",
        "\n",
        "\n",
        "\n",
        "\n"
      ]
    },
    {
      "cell_type": "code",
      "execution_count": null,
      "metadata": {
        "colab": {
          "base_uri": "https://localhost:8080/",
          "height": 300
        },
        "id": "hKQ6EgTvagwf",
        "outputId": "06a992dc-a453-48b0-dfdb-82fcbc8581fa"
      },
      "outputs": [
        {
          "output_type": "display_data",
          "data": {
            "text/plain": [
              "<Figure size 432x288 with 1 Axes>"
            ],
            "image/png": "[encoded data removed]"
          },
          "metadata": {
            "needs_background": "light"
          }
        }
      ],
      "source": [
        "plot_results(acc_means, acc_std, \"Accuracy\", x_, \"Activtion function\")"
      ]
    },
    {
      "cell_type": "markdown",
      "metadata": {
        "id": "ZsQbi_20lAWJ"
      },
      "source": [
        "<div dir=rtl>\n",
        "\n",
        "### אופטימייזר שונה"
      ]
    },
    {
      "cell_type": "code",
      "execution_count": null,
      "metadata": {
        "colab": {
          "base_uri": "https://localhost:8080/"
        },
        "id": "ei19oTbmk_3R",
        "outputId": "46234a66-cf84-47f9-a115-2efcdc99441d"
      },
      "outputs": [
        {
          "output_type": "stream",
          "name": "stdout",
          "text": [
            "Test Accuracy Mean: 0.973\n",
            "Test Accuracy StD: 0.019\n",
            "Test Accuracy Mean: 0.938\n",
            "Test Accuracy StD: 0.044\n",
            "Test Accuracy Mean: 0.962\n",
            "Test Accuracy StD: 0.017\n",
            "Test Accuracy Mean: 0.913\n",
            "Test Accuracy StD: 0.085\n",
            "Test Accuracy Mean: 0.978\n",
            "Test Accuracy StD: 0.020\n"
          ]
        }
      ],
      "source": [
        "\n",
        "acc_means = []\n",
        "acc_std = []\n",
        "x_ = []\n",
        "for opt in ['adam', 'sgd','rmsprop','adamax','nadam' ]:\n",
        "  acc_t = []\n",
        "  for i in range(10):\n",
        "    activation_func = 'relu'\n",
        "    acc, AIC, BIC = create_and_eval(n_hidden_layers=3, n_neurons=24, activation_func=activation_func, optimizer=opt)\n",
        "    acc_t.append(acc)\n",
        "\n",
        "  print(f'Test Accuracy Mean: {np.mean(acc_t):.3f}')\n",
        "  print(f'Test Accuracy StD: {np.std(acc_t):.3f}')\n",
        "  x_.append(opt)\n",
        "  acc_means.append(np.mean(acc_t)) \n",
        "  acc_std.append(np.std(acc_t))"
      ]
    },
    {
      "cell_type": "code",
      "execution_count": null,
      "metadata": {
        "colab": {
          "base_uri": "https://localhost:8080/",
          "height": 300
        },
        "id": "mOTFzdpTc2gw",
        "outputId": "2a4c4c2c-1170-4595-e09f-0e97fd760892"
      },
      "outputs": [
        {
          "output_type": "display_data",
          "data": {
            "text/plain": [
              "<Figure size 432x288 with 1 Axes>"
            ],
            "image/png": "[encoded data removed]"
          },
          "metadata": {
            "needs_background": "light"
          }
        }
      ],
      "source": [
        "\n",
        "plot_results(acc_means, acc_std, \"Accuracy\", x_, \"Optimaizer\")"
      ]
    },
    {
      "cell_type": "markdown",
      "metadata": {
        "id": "1dxvr3Q1huHu"
      },
      "source": [
        "<div dir=rtl>\n",
        "\n",
        "## הרשת האופטימלית שקיבלנו"
      ]
    },
    {
      "cell_type": "code",
      "execution_count": null,
      "metadata": {
        "colab": {
          "base_uri": "https://localhost:8080/"
        },
        "id": "OkAbfn04huh3",
        "outputId": "e3c9c200-e016-45fb-bc4f-0ffe20f832fa"
      },
      "outputs": [
        {
          "output_type": "stream",
          "name": "stdout",
          "text": [
            "Test Accuracy Mean: 1.000\n",
            "Test Accuracy StD: 0.000\n"
          ]
        }
      ],
      "source": [
        "acc_t = []\n",
        "for i in range(20):\n",
        "  activation_func = 'elu'\n",
        "  optimizer='nadam'\n",
        "  acc, AIC, BIC = create_and_eval(n_hidden_layers=4, n_neurons=14, activation_func=activation_func, optimizer=optimizer)\n",
        "acc_t.append(acc)\n",
        "print(f'Test Accuracy Mean: {np.mean(acc_t):.3f}')\n",
        "print(f'Test Accuracy StD: {np.std(acc_t):.3f}')\n"
      ]
    }
  ],
  "metadata": {
    "accelerator": "GPU",
    "colab": {
      "provenance": [],
      "toc_visible": true
    },
    "gpuClass": "standard",
    "kernelspec": {
      "display_name": "Python 3",
      "name": "python3"
    },
    "language_info": {
      "name": "python"
    }
  },
  "nbformat": 4,
  "nbformat_minor": 0
}