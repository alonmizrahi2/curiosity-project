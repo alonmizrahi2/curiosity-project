{
  "cells": [
    {
      "cell_type": "markdown",
      "source": [
        "<div dir=rtl>\n",
        "\n",
        "#  פרויקט קורס סקרנות\n",
        "  מגישים: שי פרח ת.ז 025257957 , \n",
        "אלון מזרחי ת.ז 312284706"
      ],
      "metadata": {
        "id": "vlO0p0HTZNHz"
      }
    },
    {
      "cell_type": "markdown",
      "metadata": {
        "id": "JGfiIs8z6OHn"
      },
      "source": [
        "<div dir=rtl>\n",
        "\n",
        "# עבור פרויקט זה נשתמש במסד הנתונים של האירוסים לסיווג מולטי-קלאס "
      ]
    },
    {
      "cell_type": "markdown",
      "metadata": {
        "id": "TiX5IRHe60zp"
      },
      "source": [
        "<div dir=rtl>\n",
        "\n",
        "## טעינת הספריות"
      ]
    },
    {
      "cell_type": "code",
      "execution_count": null,
      "metadata": {
        "id": "DNBrvr206KvZ"
      },
      "outputs": [],
      "source": [
        "from pandas import read_csv\n",
        "from sklearn.model_selection import train_test_split\n",
        "from sklearn.preprocessing import LabelEncoder\n",
        "from sklearn.metrics import confusion_matrix\n",
        "from sklearn.metrics import classification_report\n",
        "from sklearn.metrics import accuracy_score\n",
        "\n",
        "from google.colab import data_table # Enables rendering of pandas dataframes into interactive displays\n",
        "data_table.enable_dataframe_formatter()"
      ]
    },
    {
      "cell_type": "code",
      "execution_count": null,
      "metadata": {
        "id": "ZmuJDSFIwjnZ"
      },
      "outputs": [],
      "source": [
        "import pandas as pd\n",
        "import numpy as np\n",
        "import matplotlib.pyplot as plt\n",
        "import scipy\n",
        "from scipy import stats\n",
        "\n"
      ]
    },
    {
      "cell_type": "markdown",
      "source": [
        "<div dir=rtl>\n",
        "\n",
        "# חלק א': \n",
        "## 1. ניסוח הבעיה: בחירת בעיית למידה"
      ],
      "metadata": {
        "id": "AraeCMlmav8b"
      }
    },
    {
      "cell_type": "markdown",
      "metadata": {
        "id": "uNLBgFaI72HB"
      },
      "source": [
        "<div dir=rtl>\n",
        "\n",
        "## טעינת הנתונים "
      ]
    },
    {
      "cell_type": "code",
      "execution_count": null,
      "metadata": {
        "id": "te044DKg7N9r"
      },
      "outputs": [],
      "source": [
        "# load the dataset\n",
        "path = \"https://gist.githubusercontent.com/curran/a08a1080b88344b0c8a7/raw/0e7a9b0a5d22642a06d3d5b9bcbad9890c8ee534/iris.csv\"\n",
        "df = read_csv(path)\n",
        "\n",
        "\n"
      ]
    },
    {
      "cell_type": "markdown",
      "source": [
        "<img src=https://camo.githubusercontent.com/74e378bb24b34efb63e8db09c4f073370d36f23aaa2c7580a805e93c881b78c2/68747470733a2f2f73332e616d617a6f6e6177732e636f6d2f6173736574732e6461746163616d702e636f6d2f626c6f675f6173736574732f4d616368696e652b4c6561726e696e672b522f697269732d6d616368696e656c6561726e696e672e706e67>"
      ],
      "metadata": {
        "id": "ka_qlOI95r1X"
      }
    },
    {
      "cell_type": "markdown",
      "source": [
        "The Iris Dataset consists of 50 samples each of three different species of iris flower: setosa, versicolor and virginica. It contains four different measurements for each sample in centimetres - the length and width of sepals and petals - making it a multivariate dataset.\n",
        "<img src=https://miro.medium.com/max/1400/1*2vTEJYgA9TnWPM81fBz7tw.webp>"
      ],
      "metadata": {
        "id": "qzdq8EcC5C4u"
      }
    },
    {
      "cell_type": "code",
      "execution_count": null,
      "metadata": {
        "colab": {
          "base_uri": "https://localhost:8080/"
        },
        "id": "pvLNJ4YoEhyd",
        "outputId": "05265b33-45a1-431b-8b8b-f805308fb7d4"
      },
      "outputs": [
        {
          "output_type": "stream",
          "name": "stdout",
          "text": [
            "<class 'pandas.core.frame.DataFrame'>\n",
            "RangeIndex: 150 entries, 0 to 149\n",
            "Data columns (total 5 columns):\n",
            " #   Column        Non-Null Count  Dtype  \n",
            "---  ------        --------------  -----  \n",
            " 0   sepal_length  150 non-null    float64\n",
            " 1   sepal_width   150 non-null    float64\n",
            " 2   petal_length  150 non-null    float64\n",
            " 3   petal_width   150 non-null    float64\n",
            " 4   species       150 non-null    object \n",
            "dtypes: float64(4), object(1)\n",
            "memory usage: 6.0+ KB\n"
          ]
        }
      ],
      "source": [
        "df.info()"
      ]
    },
    {
      "cell_type": "code",
      "execution_count": null,
      "metadata": {
        "colab": {
          "base_uri": "https://localhost:8080/",
          "height": 261
        },
        "id": "iNXKgWWFE2xf",
        "outputId": "4dcb6e60-f24f-46d3-f2e2-a037eeecd313"
      },
      "outputs": [
        {
          "output_type": "execute_result",
          "data": {
            "text/plain": [
              "       sepal_length  sepal_width  petal_length  petal_width\n",
              "count    150.000000   150.000000    150.000000   150.000000\n",
              "mean       5.843333     3.054000      3.758667     1.198667\n",
              "std        0.828066     0.433594      1.764420     0.763161\n",
              "min        4.300000     2.000000      1.000000     0.100000\n",
              "25%        5.100000     2.800000      1.600000     0.300000\n",
              "50%        5.800000     3.000000      4.350000     1.300000\n",
              "75%        6.400000     3.300000      5.100000     1.800000\n",
              "max        7.900000     4.400000      6.900000     2.500000"
            ],
            "text/html": [
              "\n",
              "  <div id=\"df-da2eb9f1-9b6e-43ce-8551-94d4999cd5ca\">\n",
              "    <div class=\"colab-df-container\">\n",
              "      <div>\n",
              "<style scoped>\n",
              "    .dataframe tbody tr th:only-of-type {\n",
              "        vertical-align: middle;\n",
              "    }\n",
              "\n",
              "    .dataframe tbody tr th {\n",
              "        vertical-align: top;\n",
              "    }\n",
              "\n",
              "    .dataframe thead th {\n",
              "        text-align: right;\n",
              "    }\n",
              "</style>\n",
              "<table border=\"1\" class=\"dataframe\">\n",
              "  <thead>\n",
              "    <tr style=\"text-align: right;\">\n",
              "      <th></th>\n",
              "      <th>sepal_length</th>\n",
              "      <th>sepal_width</th>\n",
              "      <th>petal_length</th>\n",
              "      <th>petal_width</th>\n",
              "    </tr>\n",
              "  </thead>\n",
              "  <tbody>\n",
              "    <tr>\n",
              "      <th>count</th>\n",
              "      <td>150.000000</td>\n",
              "      <td>150.000000</td>\n",
              "      <td>150.000000</td>\n",
              "      <td>150.000000</td>\n",
              "    </tr>\n",
              "    <tr>\n",
              "      <th>mean</th>\n",
              "      <td>5.843333</td>\n",
              "      <td>3.054000</td>\n",
              "      <td>3.758667</td>\n",
              "      <td>1.198667</td>\n",
              "    </tr>\n",
              "    <tr>\n",
              "      <th>std</th>\n",
              "      <td>0.828066</td>\n",
              "      <td>0.433594</td>\n",
              "      <td>1.764420</td>\n",
              "      <td>0.763161</td>\n",
              "    </tr>\n",
              "    <tr>\n",
              "      <th>min</th>\n",
              "      <td>4.300000</td>\n",
              "      <td>2.000000</td>\n",
              "      <td>1.000000</td>\n",
              "      <td>0.100000</td>\n",
              "    </tr>\n",
              "    <tr>\n",
              "      <th>25%</th>\n",
              "      <td>5.100000</td>\n",
              "      <td>2.800000</td>\n",
              "      <td>1.600000</td>\n",
              "      <td>0.300000</td>\n",
              "    </tr>\n",
              "    <tr>\n",
              "      <th>50%</th>\n",
              "      <td>5.800000</td>\n",
              "      <td>3.000000</td>\n",
              "      <td>4.350000</td>\n",
              "      <td>1.300000</td>\n",
              "    </tr>\n",
              "    <tr>\n",
              "      <th>75%</th>\n",
              "      <td>6.400000</td>\n",
              "      <td>3.300000</td>\n",
              "      <td>5.100000</td>\n",
              "      <td>1.800000</td>\n",
              "    </tr>\n",
              "    <tr>\n",
              "      <th>max</th>\n",
              "      <td>7.900000</td>\n",
              "      <td>4.400000</td>\n",
              "      <td>6.900000</td>\n",
              "      <td>2.500000</td>\n",
              "    </tr>\n",
              "  </tbody>\n",
              "</table>\n",
              "</div>\n",
              "      <button class=\"colab-df-convert\" onclick=\"convertToInteractive('df-da2eb9f1-9b6e-43ce-8551-94d4999cd5ca')\"\n",
              "              title=\"Convert this dataframe to an interactive table.\"\n",
              "              style=\"display:none;\">\n",
              "        \n",
              "  <svg xmlns=\"http://www.w3.org/2000/svg\" height=\"24px\"viewBox=\"0 0 24 24\"\n",
              "       width=\"24px\">\n",
              "    <path d=\"M0 0h24v24H0V0z\" fill=\"none\"/>\n",
              "    <path d=\"M18.56 5.44l.94 2.06.94-2.06 2.06-.94-2.06-.94-.94-2.06-.94 2.06-2.06.94zm-11 1L8.5 8.5l.94-2.06 2.06-.94-2.06-.94L8.5 2.5l-.94 2.06-2.06.94zm10 10l.94 2.06.94-2.06 2.06-.94-2.06-.94-.94-2.06-.94 2.06-2.06.94z\"/><path d=\"M17.41 7.96l-1.37-1.37c-.4-.4-.92-.59-1.43-.59-.52 0-1.04.2-1.43.59L10.3 9.45l-7.72 7.72c-.78.78-.78 2.05 0 2.83L4 21.41c.39.39.9.59 1.41.59.51 0 1.02-.2 1.41-.59l7.78-7.78 2.81-2.81c.8-.78.8-2.07 0-2.86zM5.41 20L4 18.59l7.72-7.72 1.47 1.35L5.41 20z\"/>\n",
              "  </svg>\n",
              "      </button>\n",
              "      \n",
              "  <style>\n",
              "    .colab-df-container {\n",
              "      display:flex;\n",
              "      flex-wrap:wrap;\n",
              "      gap: 12px;\n",
              "    }\n",
              "\n",
              "    .colab-df-convert {\n",
              "      background-color: #E8F0FE;\n",
              "      border: none;\n",
              "      border-radius: 50%;\n",
              "      cursor: pointer;\n",
              "      display: none;\n",
              "      fill: #1967D2;\n",
              "      height: 32px;\n",
              "      padding: 0 0 0 0;\n",
              "      width: 32px;\n",
              "    }\n",
              "\n",
              "    .colab-df-convert:hover {\n",
              "      background-color: #E2EBFA;\n",
              "      box-shadow: 0px 1px 2px rgba(60, 64, 67, 0.3), 0px 1px 3px 1px rgba(60, 64, 67, 0.15);\n",
              "      fill: #174EA6;\n",
              "    }\n",
              "\n",
              "    [theme=dark] .colab-df-convert {\n",
              "      background-color: #3B4455;\n",
              "      fill: #D2E3FC;\n",
              "    }\n",
              "\n",
              "    [theme=dark] .colab-df-convert:hover {\n",
              "      background-color: #434B5C;\n",
              "      box-shadow: 0px 1px 3px 1px rgba(0, 0, 0, 0.15);\n",
              "      filter: drop-shadow(0px 1px 2px rgba(0, 0, 0, 0.3));\n",
              "      fill: #FFFFFF;\n",
              "    }\n",
              "  </style>\n",
              "\n",
              "      <script>\n",
              "        const buttonEl =\n",
              "          document.querySelector('#df-da2eb9f1-9b6e-43ce-8551-94d4999cd5ca button.colab-df-convert');\n",
              "        buttonEl.style.display =\n",
              "          google.colab.kernel.accessAllowed ? 'block' : 'none';\n",
              "\n",
              "        async function convertToInteractive(key) {\n",
              "          const element = document.querySelector('#df-da2eb9f1-9b6e-43ce-8551-94d4999cd5ca');\n",
              "          const dataTable =\n",
              "            await google.colab.kernel.invokeFunction('convertToInteractive',\n",
              "                                                     [key], {});\n",
              "          if (!dataTable) return;\n",
              "\n",
              "          const docLinkHtml = 'Like what you see? Visit the ' +\n",
              "            '<a target=\"_blank\" href=https://colab.research.google.com/notebooks/data_table.ipynb>data table notebook</a>'\n",
              "            + ' to learn more about interactive tables.';\n",
              "          element.innerHTML = '';\n",
              "          dataTable['output_type'] = 'display_data';\n",
              "          await google.colab.output.renderOutput(dataTable, element);\n",
              "          const docLink = document.createElement('div');\n",
              "          docLink.innerHTML = docLinkHtml;\n",
              "          element.appendChild(docLink);\n",
              "        }\n",
              "      </script>\n",
              "    </div>\n",
              "  </div>\n",
              "  "
            ],
            "application/vnd.google.colaboratory.module+javascript": "\n      import \"https://ssl.gstatic.com/colaboratory/data_table/a8bd4d5e58f96183/data_table.js\";\n\n      window.createDataTable({\n        data: [[\"count\",\n{\n            'v': 150.0,\n            'f': \"150.0\",\n        },\n{\n            'v': 150.0,\n            'f': \"150.0\",\n        },\n{\n            'v': 150.0,\n            'f': \"150.0\",\n        },\n{\n            'v': 150.0,\n            'f': \"150.0\",\n        }],\n [\"mean\",\n{\n            'v': 5.843333333333334,\n            'f': \"5.843333333333334\",\n        },\n{\n            'v': 3.0540000000000003,\n            'f': \"3.0540000000000003\",\n        },\n{\n            'v': 3.758666666666666,\n            'f': \"3.758666666666666\",\n        },\n{\n            'v': 1.1986666666666668,\n            'f': \"1.1986666666666668\",\n        }],\n [\"std\",\n{\n            'v': 0.828066127977863,\n            'f': \"0.828066127977863\",\n        },\n{\n            'v': 0.4335943113621737,\n            'f': \"0.4335943113621737\",\n        },\n{\n            'v': 1.7644204199522626,\n            'f': \"1.7644204199522626\",\n        },\n{\n            'v': 0.7631607417008411,\n            'f': \"0.7631607417008411\",\n        }],\n [\"min\",\n{\n            'v': 4.3,\n            'f': \"4.3\",\n        },\n{\n            'v': 2.0,\n            'f': \"2.0\",\n        },\n{\n            'v': 1.0,\n            'f': \"1.0\",\n        },\n{\n            'v': 0.1,\n            'f': \"0.1\",\n        }],\n [\"25%\",\n{\n            'v': 5.1,\n            'f': \"5.1\",\n        },\n{\n            'v': 2.8,\n            'f': \"2.8\",\n        },\n{\n            'v': 1.6,\n            'f': \"1.6\",\n        },\n{\n            'v': 0.3,\n            'f': \"0.3\",\n        }],\n [\"50%\",\n{\n            'v': 5.8,\n            'f': \"5.8\",\n        },\n{\n            'v': 3.0,\n            'f': \"3.0\",\n        },\n{\n            'v': 4.35,\n            'f': \"4.35\",\n        },\n{\n            'v': 1.3,\n            'f': \"1.3\",\n        }],\n [\"75%\",\n{\n            'v': 6.4,\n            'f': \"6.4\",\n        },\n{\n            'v': 3.3,\n            'f': \"3.3\",\n        },\n{\n            'v': 5.1,\n            'f': \"5.1\",\n        },\n{\n            'v': 1.8,\n            'f': \"1.8\",\n        }],\n [\"max\",\n{\n            'v': 7.9,\n            'f': \"7.9\",\n        },\n{\n            'v': 4.4,\n            'f': \"4.4\",\n        },\n{\n            'v': 6.9,\n            'f': \"6.9\",\n        },\n{\n            'v': 2.5,\n            'f': \"2.5\",\n        }]],\n        columns: [[\"string\", \"index\"], [\"number\", \"sepal_length\"], [\"number\", \"sepal_width\"], [\"number\", \"petal_length\"], [\"number\", \"petal_width\"]],\n        columnOptions: [{\"width\": \"1px\", \"className\": \"index_column\"}],\n        rowsPerPage: 25,\n        helpUrl: \"https://colab.research.google.com/notebooks/data_table.ipynb\",\n        suppressOutputScrolling: true,\n        minimumWidth: undefined,\n      });\n    "
          },
          "metadata": {},
          "execution_count": 5
        }
      ],
      "source": [
        "df.describe()"
      ]
    },
    {
      "cell_type": "markdown",
      "metadata": {
        "id": "dDS8WcE8t83U"
      },
      "source": [
        "<div dir=rtl>\n",
        "\n",
        "## 2. ניסוח הבעיה בעזרת היקש בייסיאני\n",
        "\n",
        "מטרת הלמידה היא אימון מודל מודל מסווג לדאטהסט האירוסים.\n",
        "בדאטהסט זה כל דוגמא מכילה וקטור x בין 4 תכונות מספריות רציפות, ותיוג y, שהוא סוג האירוס הספציפי מתוך שלושה סוגי אירוסים הקיימים בדאטהסט.\n",
        " \n",
        "מטרת האלגוריתם היא לאמן מסווג בתהליך של הסקה בייסיאנית. \n",
        "המסווג המאומן יקבל כקלט וקטור  x המכיל את ארבעת התכונות המספריות של האירוס הספציפי ויחזיר כפלט וקטור בין שלושה ערכים המייצגים את ההסתברות \n",
        " \n",
        "￼P(y_i |x)\n",
        "  for i= 1,2,3\n",
        " \n",
        "את החישוב ההסתברויות הנ״ל נעשה באמצעות נוסחת בייס\n",
        "\n",
        "p(y|x) = (p(y)*p(x|y))/p(x)\n",
        "\n",
        "לשם כך נצטרך להניח :\n",
        "\n",
        "1.   התכונות בלתי תלויות\n",
        "2.   התכונות מתפלגות נורמלי\n",
        "\n",
        " הנחות אלו לאו דווקא נכונות, לכן מודל הסיווג הזה נקרא גם naive bays\n"
      ]
    },
    {
      "cell_type": "markdown",
      "metadata": {
        "id": "XAGAPQqiurTS"
      },
      "source": [
        "## 'y' is the Iris name (labels), 'x' is the properties of the Iris (features)\n",
        "\n",
        "### p(y) = class prior \n",
        "\n",
        "### p(x|y) = likelihood\n",
        "\n",
        "### p(y|x) = postirior\n",
        "\n",
        "### p(x) = feature prior\n",
        "\n",
        "### p(y|x) = (p(y)*p(x|y))/p(x)"
      ]
    },
    {
      "cell_type": "markdown",
      "source": [
        "<div dir=rtl>\n",
        "\n",
        "## 3. תכנות הבעיה והפתרון"
      ],
      "metadata": {
        "id": "qOeNTW77cMWs"
      }
    },
    {
      "cell_type": "code",
      "source": [
        "#### utility functions #####\n",
        "def normalize(p):\n",
        "  c = p[0] + p[1] + p[2]\n",
        "  p[0] = p[0]/c\n",
        "  p[1] = p[1]/c\n",
        "  p[2] = p[2]/c\n",
        "  return p\n",
        "\n",
        "#Function to Calculate Probability using Gaussian Distribution Formula\n",
        "def get_probability(x, mean, std):\n",
        "  return stats.norm(loc=mean,scale=std**2).pdf(x)\n",
        "\n",
        "#A Function to compute Information Gain (IG) using Kullback–Leibler divergence\n",
        "def IG(proba_before,proba_after):\n",
        "  Ig_ = 0\n",
        "  for t in range(len(proba_before)):\n",
        "    if proba_before[t] > 0.0000 and proba_after[t] > 0.0000: \n",
        "      Ig_ += proba_after[t] * np.log2(proba_after[t] / proba_before[t])\n",
        "  return Ig_\n"
      ],
      "metadata": {
        "id": "NBPun_bAVvIU"
      },
      "execution_count": null,
      "outputs": []
    },
    {
      "cell_type": "code",
      "source": [
        "def update_statistics(classes, class_mean, class_stdev, class_prior,x_t, y_t):\n",
        "  #extract the first i samples\n",
        "  current_X_train = x_t\n",
        "  current_y_train = y_t\n",
        "\n",
        "  #update class statistics\n",
        "  for class_idx,class_name in enumerate(classes): #Iterate over all classes\n",
        "    X_of_class = current_X_train[current_y_train == class_name] #extract the samples of the currnt class\n",
        "    class_mean[class_idx] = X_of_class.mean(axis=0)\n",
        "    class_stdev[class_idx] = X_of_class.std(axis=0)\n",
        "    class_prior[class_idx] = X_of_class.shape[0] / current_X_train.shape[0]\n",
        "    \n",
        "  #update feature statistics\n",
        "  feat_mean = current_X_train.mean(axis=0)\n",
        "  feat_stdev = current_X_train.std(axis=0)\n",
        "\n",
        "  return feat_mean, feat_stdev"
      ],
      "metadata": {
        "id": "uj3fKDEQVvF-"
      },
      "execution_count": null,
      "outputs": []
    },
    {
      "cell_type": "code",
      "source": [
        "def get_postirior(classes, class_mean, class_stdev, class_prior, feature_mean, feature_stdev, xx):\n",
        "  post_prob = []\n",
        "  for class_idx,class_name in enumerate(classes):\n",
        "    #Calculate P(x|class) \n",
        "    likelyhood = get_probability(xx, class_mean[class_idx], class_stdev[class_idx])\n",
        "    #Calculate P(x)\n",
        "    feature_prior = get_probability(xx, feature_mean, feature_stdev)\n",
        "    #Using Bayes Theorem, calculate P(class|x)  \n",
        "    postirior = class_prior[class_idx]*np.prod(likelyhood)/np.prod(feature_prior)\n",
        "\n",
        "    #Add class post to the List\n",
        "    post_prob.append(postirior)\n",
        "  return post_prob"
      ],
      "metadata": {
        "id": "q6sUE8vRVvDC"
      },
      "execution_count": null,
      "outputs": []
    },
    {
      "cell_type": "code",
      "source": [
        "def validate_on_test_data(classes, class_mean, class_stdev, class_prior, feature_mean, feature_stdev, x_test, y_test):\n",
        "  #Initialized variable for storing Predictions\n",
        "  prediction = []\n",
        "  #Iterate over Test Data\n",
        "  for x in x_test: \n",
        "    #Store Best Case Probability\n",
        "    post_proba = []\n",
        "\n",
        "    #To Iterate over Each Class\n",
        "    for class_idx,class_name in enumerate(classes):\n",
        "      #Calculate P(x|class) \n",
        "      likelyhood = get_probability(x, class_mean[class_idx], class_stdev[class_idx])\n",
        "      #Calculate P(x)\n",
        "      feature_prior = get_probability(x, feature_mean, feature_stdev)\n",
        "      #Using Bayes Theorem, calculate P(class|x)  \n",
        "      postirior = class_prior[class_idx]*np.prod(likelyhood)/np.prod(feature_prior)\n",
        "\n",
        "      #Add class post to the List\n",
        "      post_proba.append(postirior)\n",
        "\n",
        "    #To append Name of Class whose Probability is Max among all the Classes\n",
        "    prediction.append(classes[np.argmax(post_proba)])\n",
        "  #Return Accuracy Score\n",
        "  return accuracy_score(prediction, y_test)"
      ],
      "metadata": {
        "id": "JpSnHKI-Vu_5"
      },
      "execution_count": null,
      "outputs": []
    },
    {
      "cell_type": "code",
      "source": [
        "### start ###\n",
        "\n",
        "#Extract the dataset's features to the variable'X' and the labels to the variable 'y' \n",
        "X = df.iloc[:, :-1].values\n",
        "y = df.iloc[:, -1].values"
      ],
      "metadata": {
        "id": "Fr3CF-QHFlQg"
      },
      "execution_count": null,
      "outputs": []
    },
    {
      "cell_type": "code",
      "source": [
        "#Split data for Training and Testing\n",
        "X_train, X_test, y_train, y_test = train_test_split(X, y, test_size = 0.3, random_state = 2)\n",
        "\n",
        "#Get Total No. of Samples and Total No. of Features of Training Dataset\n",
        "num_of_samples, num_of_featuers = X_train.shape\n",
        "print(f\"X train has {num_of_samples} samples with {num_of_featuers} features each\")\n",
        "print(f\"X test has {X_test.shape[0]} such sampels\")"
      ],
      "metadata": {
        "colab": {
          "base_uri": "https://localhost:8080/"
        },
        "id": "9jXwBJPSJJbm",
        "outputId": "91aa33b3-3ba0-4f55-fb5c-37988cfe9008"
      },
      "execution_count": null,
      "outputs": [
        {
          "output_type": "stream",
          "name": "stdout",
          "text": [
            "X train has 105 samples with 4 features each\n",
            "X test has 45 such sampels\n"
          ]
        }
      ]
    },
    {
      "cell_type": "code",
      "source": [
        "#Classes\n",
        "classes = np.unique(y_train)\n",
        "num_of_classes = len(classes)\n",
        "print(classes)"
      ],
      "metadata": {
        "colab": {
          "base_uri": "https://localhost:8080/"
        },
        "id": "hpKqTsA3FlKD",
        "outputId": "552e3677-839d-4ce2-e255-6b2d5bb8659a"
      },
      "execution_count": null,
      "outputs": [
        {
          "output_type": "stream",
          "name": "stdout",
          "text": [
            "['setosa' 'versicolor' 'virginica']\n"
          ]
        }
      ]
    },
    {
      "cell_type": "code",
      "source": [
        "#Global variables keeps the statistics of current X_test \n",
        "class_mean = np.zeros((num_of_classes, num_of_featuers), dtype=np.float32)\n",
        "class_stdev = np.zeros((num_of_classes, num_of_featuers), dtype=np.float32)\n",
        "class_prior = np.zeros(num_of_classes, dtype=np.float32)\n",
        "\n",
        "feature_mean = np.zeros(num_of_featuers, dtype=np.float32)\n",
        "feature_stdev = np.zeros(num_of_featuers, dtype=np.float32)\n"
      ],
      "metadata": {
        "id": "M9JnUnEQFk5t"
      },
      "execution_count": null,
      "outputs": []
    },
    {
      "cell_type": "code",
      "source": [
        "# initial statistics parameters  \n",
        "\n",
        "init = 20 # Initialize the model with 'init' first exampls\n",
        "feature_mean, feature_stdev = update_statistics(classes, class_mean, class_stdev, class_prior, X_train[0:init,:], y_train[0:init])"
      ],
      "metadata": {
        "id": "yExRaxXXDEHd"
      },
      "execution_count": null,
      "outputs": []
    },
    {
      "cell_type": "markdown",
      "source": [
        "<div dir=rtl>\n",
        "\n",
        "### אימון המודל\n",
        "\n",
        "בחלק זה בוצע אימון (עדכון הפרמטרים הסטטיסטיים על ידי נוסחת בייס), כאשר בחלק הראשון בוצע אימון על פי הסדר של הדאטה ללא תלות ב -Information Gain (בכל שלב חושב ה-IG אך לא בוצע בו שימוש), לאחר מכן בוצע אימון 'סקרני' בו בכל שלב נבדק איזו פיסת מידע תגרום ל- Information Gain מקסימלי, וכך נבחרה פיסת המידע. ניתן לראות בגרפים למטה עבור דיוק כתלות במספר דוגמאות האימון כי עבור אימון 'סקרני' המודל הגיע לדיוק של מעל 90% לפני 20 פיסות מידע, בעוד שבאימון רגיל המודל הגיע לדיוק של 90% רק לאחר 80 פיסות מידע. בנוסף ניתן לראות בגרפים למטה עבור IG כי ה-IG המצטבר גדול יותר באימון סקרני ועולה מהר יותר."
      ],
      "metadata": {
        "id": "CDbOGQI5c9A2"
      }
    },
    {
      "cell_type": "code",
      "source": [
        "# Non-curiosity train \n",
        "# Iterate over the rest of the samples to fit the model one sample at a time\n",
        "accuracy_scores = []\n",
        "IG_scores = []\n",
        "IG_scores_accu = [] #accumulative\n",
        "IG2 = 0\n",
        "for i in range(init+1,num_of_samples):\n",
        "  #Get P(y|x) before learning from the current (x,y) example\n",
        "  proba_before = get_postirior(classes, class_mean, class_stdev, class_prior, feature_mean, feature_stdev,X_train[i,:])\n",
        "\n",
        "  #Learn the current (x,y) example\n",
        "  feature_mean, feature_stdev = update_statistics(classes, class_mean, class_stdev, class_prior, X_train[0:i,:], y_train[0:i])\n",
        "\n",
        "  #Get P(y|x) after learning from the current (x,y) example\n",
        "  proba_after = get_postirior(classes, class_mean, class_stdev, class_prior, feature_mean, feature_stdev,X_train[i,:])\n",
        "\n",
        "  #Compute information gained from learning the current (x,y) example\n",
        "  IG1 = IG(proba_before,proba_after)\n",
        "  IG2 +=IG1\n",
        "  IG_scores.append(IG1)\n",
        "  IG_scores_accu.append(IG2)\n",
        "  accuracy = validate_on_test_data(classes, class_mean, class_stdev, class_prior, feature_mean, feature_stdev, X_test, y_test)\n",
        "  accuracy_scores.append(accuracy)\n"
      ],
      "metadata": {
        "id": "d3Cp3oKoH8Az"
      },
      "execution_count": null,
      "outputs": []
    },
    {
      "cell_type": "code",
      "source": [
        "# Bonus\n",
        "# Curiosity train \n",
        "\n",
        "Curiosity_accuracy_scores = []\n",
        "curiosity_IG_scores = []\n",
        "curiosity_IG_scores_accu = []\n",
        "IG_cur2 = 0\n",
        "ig_max = 0\n",
        "curiosity_X_train = X_train[:init+1,:]\n",
        "curiosity_y_train = y_train[:init+1]\n",
        "new_x_train = X_train[init+1:,:]\n",
        "new_y_train = y_train[init+1:]\n",
        "# Iterate over the rest of the samples to fit the model one sample at a time\n",
        "for i in range(init+1,num_of_samples):\n",
        "  ig_max = 0\n",
        "  index_of_ig_max = 0\n",
        "\n",
        "  # Iterate over the all the train data and save the index of the data with the highest Information Gain\n",
        "  for j in range(len(new_x_train)):\n",
        "    #init temporary std and mean\n",
        "    temp_feature_mean = np.zeros(num_of_featuers, dtype=np.float32)\n",
        "    temp_feature_stdev = np.zeros(num_of_featuers, dtype=np.float32)\n",
        "\n",
        "    temp_post_proba_before = get_postirior(classes, class_mean, class_stdev, class_prior, feature_mean, feature_stdev,curiosity_X_train[-1:,:])\n",
        "    temp_x_train = np.vstack((curiosity_X_train, new_x_train[j,:]))\n",
        "    temp_y_train = np.hstack((curiosity_y_train, new_y_train[j]))\n",
        "    # update temporary statistics parameters\n",
        "    temp_feature_mean, temp_feature_stdev = update_statistics(classes, class_mean, class_stdev, class_prior, temp_x_train,temp_y_train)\n",
        "    temp_post_proba_after = get_postirior(classes, class_mean, class_stdev, class_prior, temp_feature_mean, temp_feature_stdev,curiosity_X_train[-1:,:])\n",
        "    # Calculate IG\n",
        "    temp_IG = IG(temp_post_proba_before,temp_post_proba_after)\n",
        "    if(temp_IG > ig_max):\n",
        "      index_of_ig_max = j\n",
        "      ig_max = temp_IG\n",
        "    \n",
        "  \n",
        "  post_proba_before = get_postirior(classes, class_mean, class_stdev, class_prior, feature_mean, feature_stdev,curiosity_X_train[-1:,:])\n",
        "  # add the best data row to the curiosity train set\n",
        "  curiosity_X_train = np.vstack((curiosity_X_train, new_x_train[index_of_ig_max,:]))\n",
        "  curiosity_y_train = np.hstack((curiosity_y_train, new_y_train[index_of_ig_max]))\n",
        "  \n",
        "  # remove the row we used with the highest IG\n",
        "  new_x_train = np.delete(new_x_train, index_of_ig_max, axis=0)\n",
        "  new_y_train = np.delete(new_y_train, index_of_ig_max, axis=0)\n",
        "\n",
        "  # update statistics parameters\n",
        "  feature_mean, feature_stdev = update_statistics(classes, class_mean, class_stdev, class_prior, curiosity_X_train,curiosity_y_train)\n",
        "  post_proba_after = get_postirior(classes, class_mean, class_stdev, class_prior, feature_mean, feature_stdev,curiosity_X_train[-1:,:])\n",
        "  # Calculate IG\n",
        "  IG_cur = IG(post_proba_before,post_proba_after)\n",
        "  IG_cur2 += IG_cur\n",
        "  curiosity_IG_scores.append(IG_cur)\n",
        "  curiosity_IG_scores_accu.append(IG_cur2)\n",
        "  accuracy = validate_on_test_data(classes, class_mean, class_stdev, class_prior, feature_mean, feature_stdev, X_test, y_test)\n",
        "  Curiosity_accuracy_scores.append(accuracy)\n",
        "\n",
        "# plt.plot(Curiosity_accuracy_scores)\n",
        "# plt.show()"
      ],
      "metadata": {
        "id": "6NFneKnWXH_N"
      },
      "execution_count": null,
      "outputs": []
    },
    {
      "cell_type": "code",
      "source": [
        "fig, (ax1, ax2) = plt.subplots(1, 2, figsize=(10, 4))\n",
        "\n",
        "ax1.plot(Curiosity_accuracy_scores)\n",
        "ax2.plot(accuracy_scores)\n",
        "ax1.title.set_text('Curiosity accuracy scores')\n",
        "ax1.set_ylabel('accuracy')\n",
        "ax1.set_xlabel('number of samples')\n",
        "ax2.title.set_text('Non-Curiosity accuracy scores')\n",
        "ax2.set_ylabel('accuracy')\n",
        "ax2.set_xlabel('number of samples')\n",
        "plt.show()"
      ],
      "metadata": {
        "colab": {
          "base_uri": "https://localhost:8080/",
          "height": 295
        },
        "id": "6l3DPR0JXWET",
        "outputId": "cec5e9a3-2c3f-4a60-cea3-6d4c17b6249c"
      },
      "execution_count": null,
      "outputs": [
        {
          "output_type": "display_data",
          "data": {
            "text/plain": [
              "<Figure size 720x288 with 2 Axes>"
            ],
            "image/png": "[encoded data removed]"
          },
          "metadata": {
            "needs_background": "light"
          }
        }
      ]
    },
    {
      "cell_type": "code",
      "source": [
        "# accumulated Information gain\n",
        "fig, (ax1, ax2) = plt.subplots(1, 2, figsize=(10, 4))\n",
        "\n",
        "ax1.plot(curiosity_IG_scores_accu)\n",
        "ax2.plot(IG_scores_accu)\n",
        "ax1.title.set_text('Curiosity IG')\n",
        "ax1.set_ylabel('IG')\n",
        "ax1.set_xlabel('number of samples')\n",
        "ax2.title.set_text('Non-Curiosity IG')\n",
        "ax2.set_ylabel('IG')\n",
        "ax2.set_xlabel('number of samples')\n",
        "plt.show()"
      ],
      "metadata": {
        "colab": {
          "base_uri": "https://localhost:8080/",
          "height": 295
        },
        "id": "8N7Y4xIvdg00",
        "outputId": "bce2b0fd-98b2-4b58-ca9e-fe6913ee4c04"
      },
      "execution_count": null,
      "outputs": [
        {
          "output_type": "display_data",
          "data": {
            "text/plain": [
              "<Figure size 720x288 with 2 Axes>"
            ],
            "image/png": "[encoded data removed]"
          },
          "metadata": {
            "needs_background": "light"
          }
        }
      ]
    }
  ],
  "metadata": {
    "colab": {
      "provenance": [],
      "toc_visible": true
    },
    "kernelspec": {
      "display_name": "Python 3",
      "name": "python3"
    },
    "language_info": {
      "name": "python"
    }
  },
  "nbformat": 4,
  "nbformat_minor": 0
}